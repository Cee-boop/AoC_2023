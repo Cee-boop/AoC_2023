{
 "cells": [
  {
   "cell_type": "markdown",
   "id": "d89ac528-aba7-4e48-8638-5a8b514c3e6e",
   "metadata": {},
   "source": [
    "# Day 7 — Camel Cards"
   ]
  },
  {
   "cell_type": "markdown",
   "id": "5ed8ace6-4a2e-4b11-8959-a9b03ba94c85",
   "metadata": {},
   "source": [
    "- [Part 01](#—-Part-01)\n",
    "- [Part 02](#—-Part-02)"
   ]
  },
  {
   "cell_type": "code",
   "execution_count": 1270,
   "id": "65822be3-058b-48c5-8896-7eb5c38addc0",
   "metadata": {
    "tags": []
   },
   "outputs": [],
   "source": [
    "import numpy as np\n",
    "import pandas as pd"
   ]
  },
  {
   "cell_type": "markdown",
   "id": "0b9c3861-fe32-4b65-a8da-3d9ce61fa59a",
   "metadata": {},
   "source": [
    "Parse input:"
   ]
  },
  {
   "cell_type": "code",
   "execution_count": 1271,
   "id": "f86d9029-e522-42ac-ad21-9b5e0300eda0",
   "metadata": {
    "tags": []
   },
   "outputs": [],
   "source": [
    "data_dict = {'original_hand': [], 'bid': []}"
   ]
  },
  {
   "cell_type": "code",
   "execution_count": 1272,
   "id": "634ee729-c01d-4bb7-8713-45fe5b5a6d68",
   "metadata": {
    "tags": []
   },
   "outputs": [],
   "source": [
    "with open(file='day_07_input.txt') as file:\n",
    "    for line in file.read().split('\\n'):\n",
    "        hand, bid = line.split(' ')\n",
    "        # store values in data dictionary\n",
    "        data_dict['original_hand'].append(hand)\n",
    "        data_dict['bid'].append(bid)"
   ]
  },
  {
   "cell_type": "markdown",
   "id": "f52ab290-f22b-41c9-b2bb-68540a3e8a23",
   "metadata": {},
   "source": [
    "Create new dataframe:"
   ]
  },
  {
   "cell_type": "code",
   "execution_count": 1273,
   "id": "74202709-6c69-4fce-a831-680e61268cb2",
   "metadata": {
    "tags": []
   },
   "outputs": [],
   "source": [
    "df = pd.DataFrame(data_dict)"
   ]
  },
  {
   "cell_type": "code",
   "execution_count": 1274,
   "id": "8f39fd3a-5c67-4c56-a8a7-f3076fd33b5c",
   "metadata": {
    "tags": []
   },
   "outputs": [
    {
     "data": {
      "text/html": [
       "<div>\n",
       "<style scoped>\n",
       "    .dataframe tbody tr th:only-of-type {\n",
       "        vertical-align: middle;\n",
       "    }\n",
       "\n",
       "    .dataframe tbody tr th {\n",
       "        vertical-align: top;\n",
       "    }\n",
       "\n",
       "    .dataframe thead th {\n",
       "        text-align: right;\n",
       "    }\n",
       "</style>\n",
       "<table border=\"1\" class=\"dataframe\">\n",
       "  <thead>\n",
       "    <tr style=\"text-align: right;\">\n",
       "      <th></th>\n",
       "      <th>original_hand</th>\n",
       "      <th>bid</th>\n",
       "    </tr>\n",
       "  </thead>\n",
       "  <tbody>\n",
       "    <tr>\n",
       "      <th>0</th>\n",
       "      <td>QTTQK</td>\n",
       "      <td>749</td>\n",
       "    </tr>\n",
       "    <tr>\n",
       "      <th>1</th>\n",
       "      <td>JQAA2</td>\n",
       "      <td>148</td>\n",
       "    </tr>\n",
       "    <tr>\n",
       "      <th>2</th>\n",
       "      <td>37J44</td>\n",
       "      <td>319</td>\n",
       "    </tr>\n",
       "    <tr>\n",
       "      <th>3</th>\n",
       "      <td>559J5</td>\n",
       "      <td>647</td>\n",
       "    </tr>\n",
       "    <tr>\n",
       "      <th>4</th>\n",
       "      <td>92992</td>\n",
       "      <td>659</td>\n",
       "    </tr>\n",
       "  </tbody>\n",
       "</table>\n",
       "</div>"
      ],
      "text/plain": [
       "  original_hand  bid\n",
       "0         QTTQK  749\n",
       "1         JQAA2  148\n",
       "2         37J44  319\n",
       "3         559J5  647\n",
       "4         92992  659"
      ]
     },
     "execution_count": 1274,
     "metadata": {},
     "output_type": "execute_result"
    }
   ],
   "source": [
    "df.head()"
   ]
  },
  {
   "cell_type": "code",
   "execution_count": 1275,
   "id": "c872c3ff-bfbc-4733-93e1-2a7fad54e022",
   "metadata": {
    "tags": []
   },
   "outputs": [
    {
     "name": "stdout",
     "output_type": "stream",
     "text": [
      "<class 'pandas.core.frame.DataFrame'>\n",
      "RangeIndex: 1000 entries, 0 to 999\n",
      "Data columns (total 2 columns):\n",
      " #   Column         Non-Null Count  Dtype \n",
      "---  ------         --------------  ----- \n",
      " 0   original_hand  1000 non-null   object\n",
      " 1   bid            1000 non-null   int64 \n",
      "dtypes: int64(1), object(1)\n",
      "memory usage: 15.8+ KB\n"
     ]
    }
   ],
   "source": [
    "# Convert type of bid to integer\n",
    "df['bid'] = df['bid'].astype(int)\n",
    "df.info()"
   ]
  },
  {
   "cell_type": "markdown",
   "id": "9f5aaba9-9be1-47a0-9393-31af2cfaede5",
   "metadata": {},
   "source": [
    "### — Part 01"
   ]
  },
  {
   "cell_type": "markdown",
   "id": "2037c67e-6cf0-419c-b8c4-37b83014928e",
   "metadata": {},
   "source": [
    "Find the rank of every hand in your set. What are the total winnings?"
   ]
  },
  {
   "cell_type": "markdown",
   "id": "78c6d82e-cc0d-476d-a404-45c8f15afff0",
   "metadata": {},
   "source": [
    "#### Rank `hand` values:\n",
    "**Cards from highest to lowest ranking:** `A`, `K`, `Q`, `J`, `T`, `9`, `8`, `7`, `6`, `5`, `4`, `3`, or `2`<br>\n",
    "**Winning types:** `high card`, `one pair`, `two pair`, `three of a kind`, `full house`, `four of a kind`, `five of a kind`<br>"
   ]
  },
  {
   "cell_type": "code",
   "execution_count": 1276,
   "id": "beef5606-02c3-4321-ae6b-beb8843b5486",
   "metadata": {
    "tags": []
   },
   "outputs": [],
   "source": [
    "# Assigned random points to card to show weight value\n",
    "CARDS = {'A': 14, 'K': 13, 'Q': 12, 'J': 11, 'T': 10, '9': 9, '8': 8, '7': 7, '6': 6, '5': 5, '4': 4, '3': 3, '2': 2}\n",
    "\n",
    "# Winning hand patterns\n",
    "WINNING_HANDS = {\n",
    "    '00000': 'Five of a kind', \n",
    "    '00004': 'Four of a kind', \n",
    "    '00033': 'Full house', \n",
    "    '00034': 'Three of a kind', \n",
    "    '00224': 'Two Pair', \n",
    "    '00234': 'One pair',\n",
    "    '01234': 'High card'\n",
    "}"
   ]
  },
  {
   "cell_type": "markdown",
   "id": "adcb6a37-714f-4524-976f-aafd48c2c60b",
   "metadata": {},
   "source": [
    "Get winning condition for each hand:"
   ]
  },
  {
   "cell_type": "code",
   "execution_count": 1277,
   "id": "4bf20c70-8bb8-4097-bec8-a7a83c1f307a",
   "metadata": {
    "tags": []
   },
   "outputs": [],
   "source": [
    "def get_hand_type(hand: str) -> str:\n",
    "    \"\"\"\n",
    "    Determines the winning condition of current hand.\n",
    "    \"\"\"\n",
    "    # Sort hand by frequency of each character\n",
    "    sorted_hand = sorted(hand, key=lambda x: (hand.count(x), x), reverse=True)\n",
    "    \n",
    "    # Map each character to first index position in sorted_hands\n",
    "    hand_index = \"\".join([str(sorted_hand.index(char)) for char in sorted_hand])\n",
    "    \n",
    "    return WINNING_HANDS[hand_index]"
   ]
  },
  {
   "cell_type": "markdown",
   "id": "756534d6-a05e-4ed2-b62b-2895193c8c21",
   "metadata": {},
   "source": [
    "Add new column `hand_type` to dataframe:"
   ]
  },
  {
   "cell_type": "code",
   "execution_count": 1278,
   "id": "d880e787-9413-45e3-8f48-19aebac936a4",
   "metadata": {
    "tags": []
   },
   "outputs": [],
   "source": [
    "df['hand_type'] = df['original_hand'].apply(get_hand_type)"
   ]
  },
  {
   "cell_type": "code",
   "execution_count": 1279,
   "id": "07e5ec5f-4c8a-4473-a10d-9b4fac3a761b",
   "metadata": {
    "tags": []
   },
   "outputs": [
    {
     "data": {
      "text/html": [
       "<div>\n",
       "<style scoped>\n",
       "    .dataframe tbody tr th:only-of-type {\n",
       "        vertical-align: middle;\n",
       "    }\n",
       "\n",
       "    .dataframe tbody tr th {\n",
       "        vertical-align: top;\n",
       "    }\n",
       "\n",
       "    .dataframe thead th {\n",
       "        text-align: right;\n",
       "    }\n",
       "</style>\n",
       "<table border=\"1\" class=\"dataframe\">\n",
       "  <thead>\n",
       "    <tr style=\"text-align: right;\">\n",
       "      <th></th>\n",
       "      <th>original_hand</th>\n",
       "      <th>bid</th>\n",
       "      <th>hand_type</th>\n",
       "    </tr>\n",
       "  </thead>\n",
       "  <tbody>\n",
       "    <tr>\n",
       "      <th>0</th>\n",
       "      <td>QTTQK</td>\n",
       "      <td>749</td>\n",
       "      <td>Two Pair</td>\n",
       "    </tr>\n",
       "    <tr>\n",
       "      <th>1</th>\n",
       "      <td>JQAA2</td>\n",
       "      <td>148</td>\n",
       "      <td>One pair</td>\n",
       "    </tr>\n",
       "    <tr>\n",
       "      <th>2</th>\n",
       "      <td>37J44</td>\n",
       "      <td>319</td>\n",
       "      <td>One pair</td>\n",
       "    </tr>\n",
       "  </tbody>\n",
       "</table>\n",
       "</div>"
      ],
      "text/plain": [
       "  original_hand  bid hand_type\n",
       "0         QTTQK  749  Two Pair\n",
       "1         JQAA2  148  One pair\n",
       "2         37J44  319  One pair"
      ]
     },
     "execution_count": 1279,
     "metadata": {},
     "output_type": "execute_result"
    }
   ],
   "source": [
    "df.head(3)"
   ]
  },
  {
   "cell_type": "markdown",
   "id": "6c264895-d845-4240-8677-a367d36a1c02",
   "metadata": {},
   "source": [
    "Compare each `hand_type` to determine the correct ranking of each hand:"
   ]
  },
  {
   "cell_type": "code",
   "execution_count": 1280,
   "id": "2e2254ec-05d7-4d5d-b704-f3618b33817e",
   "metadata": {
    "tags": []
   },
   "outputs": [],
   "source": [
    "def get_hand_score(hand: str) -> int:\n",
    "    \"\"\"\n",
    "    Individually scores each card i currentn hand and sums the total. \n",
    "    \"\"\"\n",
    "    modifier = {0: 10000000000, 1: 10000000, 2: 10000, 3: 50, 4: 1}  # Adds a weight to each index position\n",
    "    hand_score = 0\n",
    "    \n",
    "    for index, card in enumerate(hand):\n",
    "        hand_score += CARDS[card] * modifier[index]\n",
    "    \n",
    "    return hand_score"
   ]
  },
  {
   "cell_type": "markdown",
   "id": "9bc0bdf5-ff48-46d1-8c37-fa0c786de320",
   "metadata": {},
   "source": [
    "Add placeholder columns `hand_score` and `ranking` to dataframe for later use:"
   ]
  },
  {
   "cell_type": "code",
   "execution_count": 1281,
   "id": "6dcdf8f9-1e2a-46cb-85d0-de8c9c8add07",
   "metadata": {
    "tags": []
   },
   "outputs": [],
   "source": [
    "df['hand_score'] = np.nan\n",
    "df['ranking'] = np.nan"
   ]
  },
  {
   "cell_type": "markdown",
   "id": "44ff07e6-8b23-4b60-9cc8-9759cb6940bf",
   "metadata": {},
   "source": [
    "Filter dataframe by each value in `hand_type` and determine correct ranking of each hand:"
   ]
  },
  {
   "cell_type": "code",
   "execution_count": 1282,
   "id": "2eb5baba-8ed4-45c7-a2b2-0bf4d09215cd",
   "metadata": {
    "tags": []
   },
   "outputs": [],
   "source": [
    "hand_ranks = []"
   ]
  },
  {
   "cell_type": "code",
   "execution_count": 1283,
   "id": "80bb6d2b-7c83-4a15-8f1b-163293b1ea53",
   "metadata": {
    "tags": []
   },
   "outputs": [],
   "source": [
    "for wh in WINNING_HANDS.values():\n",
    "    # Filter dataframe by current value\n",
    "    temp_df = df[df['hand_type'] == wh].copy()\n",
    "    \n",
    "    if len(temp_df.index) > 0:\n",
    "        # Add new column `hand_score` to temp_df\n",
    "        temp_df['hand_score'] = temp_df['original_hand'].apply(get_hand_score)\n",
    "        # Sort `hand_score` column from max value - min value\n",
    "        temp_df.sort_values(['hand_score'], ascending=False, inplace=True)\n",
    "        # Get index postion of values and append them to hand_ranks\n",
    "        hand_ranks += temp_df.index.tolist()"
   ]
  },
  {
   "cell_type": "markdown",
   "id": "0ae6ed6a-7ba1-4f54-88c4-79969b30f55e",
   "metadata": {},
   "source": [
    "Overwrite values in `ranking` and `hand_score` to dataframe:"
   ]
  },
  {
   "cell_type": "code",
   "execution_count": 1284,
   "id": "31169018-e845-4de9-9fbf-600c4b1d2fb4",
   "metadata": {
    "tags": []
   },
   "outputs": [],
   "source": [
    "for rank, index in enumerate(hand_ranks):\n",
    "    df.loc[index, 'ranking'] = (len(hand_ranks) - rank)\n",
    "    df.loc[index, 'hand_score'] = get_hand_score(df.iloc[index]['original_hand'])"
   ]
  },
  {
   "cell_type": "code",
   "execution_count": 1285,
   "id": "1c1cc3c5-db55-4a5e-b9e4-9032fa21044b",
   "metadata": {
    "tags": []
   },
   "outputs": [
    {
     "data": {
      "text/html": [
       "<div>\n",
       "<style scoped>\n",
       "    .dataframe tbody tr th:only-of-type {\n",
       "        vertical-align: middle;\n",
       "    }\n",
       "\n",
       "    .dataframe tbody tr th {\n",
       "        vertical-align: top;\n",
       "    }\n",
       "\n",
       "    .dataframe thead th {\n",
       "        text-align: right;\n",
       "    }\n",
       "</style>\n",
       "<table border=\"1\" class=\"dataframe\">\n",
       "  <thead>\n",
       "    <tr style=\"text-align: right;\">\n",
       "      <th></th>\n",
       "      <th>original_hand</th>\n",
       "      <th>bid</th>\n",
       "      <th>hand_type</th>\n",
       "      <th>hand_score</th>\n",
       "      <th>ranking</th>\n",
       "    </tr>\n",
       "  </thead>\n",
       "  <tbody>\n",
       "    <tr>\n",
       "      <th>0</th>\n",
       "      <td>QTTQK</td>\n",
       "      <td>749</td>\n",
       "      <td>Two Pair</td>\n",
       "      <td>1.201001e+11</td>\n",
       "      <td>565.0</td>\n",
       "    </tr>\n",
       "    <tr>\n",
       "      <th>1</th>\n",
       "      <td>JQAA2</td>\n",
       "      <td>148</td>\n",
       "      <td>One pair</td>\n",
       "      <td>1.101201e+11</td>\n",
       "      <td>374.0</td>\n",
       "    </tr>\n",
       "    <tr>\n",
       "      <th>2</th>\n",
       "      <td>37J44</td>\n",
       "      <td>319</td>\n",
       "      <td>One pair</td>\n",
       "      <td>3.007011e+10</td>\n",
       "      <td>235.0</td>\n",
       "    </tr>\n",
       "  </tbody>\n",
       "</table>\n",
       "</div>"
      ],
      "text/plain": [
       "  original_hand  bid hand_type    hand_score  ranking\n",
       "0         QTTQK  749  Two Pair  1.201001e+11    565.0\n",
       "1         JQAA2  148  One pair  1.101201e+11    374.0\n",
       "2         37J44  319  One pair  3.007011e+10    235.0"
      ]
     },
     "execution_count": 1285,
     "metadata": {},
     "output_type": "execute_result"
    }
   ],
   "source": [
    "df.head(3)"
   ]
  },
  {
   "cell_type": "markdown",
   "id": "054e1ccd-7a54-4d0b-9ba0-6d9bbda9cb61",
   "metadata": {},
   "source": [
    "Add new column `total_winnings` column to dataframe: "
   ]
  },
  {
   "cell_type": "code",
   "execution_count": 1286,
   "id": "7d7a2dbb-cdeb-46c2-9386-dd0d99c71d4b",
   "metadata": {
    "tags": []
   },
   "outputs": [],
   "source": [
    "df['total_winnings'] = df['bid'] * df['ranking']"
   ]
  },
  {
   "cell_type": "code",
   "execution_count": 1287,
   "id": "3814d7d5-b53f-45bd-a7a8-3e8794289fa2",
   "metadata": {
    "tags": []
   },
   "outputs": [
    {
     "data": {
      "text/html": [
       "<div>\n",
       "<style scoped>\n",
       "    .dataframe tbody tr th:only-of-type {\n",
       "        vertical-align: middle;\n",
       "    }\n",
       "\n",
       "    .dataframe tbody tr th {\n",
       "        vertical-align: top;\n",
       "    }\n",
       "\n",
       "    .dataframe thead th {\n",
       "        text-align: right;\n",
       "    }\n",
       "</style>\n",
       "<table border=\"1\" class=\"dataframe\">\n",
       "  <thead>\n",
       "    <tr style=\"text-align: right;\">\n",
       "      <th></th>\n",
       "      <th>original_hand</th>\n",
       "      <th>bid</th>\n",
       "      <th>hand_type</th>\n",
       "      <th>hand_score</th>\n",
       "      <th>ranking</th>\n",
       "      <th>total_winnings</th>\n",
       "    </tr>\n",
       "  </thead>\n",
       "  <tbody>\n",
       "    <tr>\n",
       "      <th>0</th>\n",
       "      <td>QTTQK</td>\n",
       "      <td>749</td>\n",
       "      <td>Two Pair</td>\n",
       "      <td>1.201001e+11</td>\n",
       "      <td>565.0</td>\n",
       "      <td>423185.0</td>\n",
       "    </tr>\n",
       "    <tr>\n",
       "      <th>1</th>\n",
       "      <td>JQAA2</td>\n",
       "      <td>148</td>\n",
       "      <td>One pair</td>\n",
       "      <td>1.101201e+11</td>\n",
       "      <td>374.0</td>\n",
       "      <td>55352.0</td>\n",
       "    </tr>\n",
       "    <tr>\n",
       "      <th>2</th>\n",
       "      <td>37J44</td>\n",
       "      <td>319</td>\n",
       "      <td>One pair</td>\n",
       "      <td>3.007011e+10</td>\n",
       "      <td>235.0</td>\n",
       "      <td>74965.0</td>\n",
       "    </tr>\n",
       "  </tbody>\n",
       "</table>\n",
       "</div>"
      ],
      "text/plain": [
       "  original_hand  bid hand_type    hand_score  ranking  total_winnings\n",
       "0         QTTQK  749  Two Pair  1.201001e+11    565.0        423185.0\n",
       "1         JQAA2  148  One pair  1.101201e+11    374.0         55352.0\n",
       "2         37J44  319  One pair  3.007011e+10    235.0         74965.0"
      ]
     },
     "execution_count": 1287,
     "metadata": {},
     "output_type": "execute_result"
    }
   ],
   "source": [
    "df.head(3)"
   ]
  },
  {
   "cell_type": "markdown",
   "id": "f9abe69e-5a20-4466-a622-5a0dfc084cf2",
   "metadata": {},
   "source": [
    "Get sum of `total_winnings`:"
   ]
  },
  {
   "cell_type": "code",
   "execution_count": 1288,
   "id": "cd761ba2-a2c9-4319-8978-86613a57829f",
   "metadata": {
    "tags": []
   },
   "outputs": [
    {
     "data": {
      "text/plain": [
       "256448566.0"
      ]
     },
     "execution_count": 1288,
     "metadata": {},
     "output_type": "execute_result"
    }
   ],
   "source": [
    "df['total_winnings'].sum()"
   ]
  },
  {
   "cell_type": "markdown",
   "id": "a61ee23b-4556-4b88-b4c4-fc754d721922",
   "metadata": {},
   "source": [
    "### — Part 02"
   ]
  },
  {
   "cell_type": "markdown",
   "id": "d202172e-57ad-4a80-9984-fb21c4c24988",
   "metadata": {},
   "source": [
    "To make things a little more interesting, the Elf introduces one additional rule. Now, J cards are jokers - wildcards that can act like whatever card would make the hand the strongest type possible.\n",
    "\n",
    "To balance this, J cards are now the weakest individual cards, weaker even than 2. The other cards stay in the same order: A, K, Q, T, 9, 8, 7, 6, 5, 4, 3, 2, J.\n",
    "\n",
    "J cards can pretend to be whatever card is best for the purpose of determining hand type; for example, QJJQ2 is now considered four of a kind. However, for the purpose of breaking ties between two hands of the same type, J is always treated as J, not the card it's pretending to be: JKKK2 is weaker than QQQQ2 because J is weaker than Q."
   ]
  },
  {
   "cell_type": "code",
   "execution_count": 1289,
   "id": "036f27b2-6668-48fb-8462-0b3b72b6686f",
   "metadata": {
    "tags": []
   },
   "outputs": [],
   "source": [
    "# Updated card weights\n",
    "CARDS = {'A': 14, 'K': 13, 'Q': 12, 'T': 10, '9': 9, '8': 8, '7': 7, '6': 6, '5': 5, '4': 4, '3': 3, '2': 2, 'J': 0}"
   ]
  },
  {
   "cell_type": "markdown",
   "id": "16e6356b-8d2e-449f-aecc-ebba076b1654",
   "metadata": {},
   "source": [
    "Overwrite dataframe:"
   ]
  },
  {
   "cell_type": "code",
   "execution_count": 1290,
   "id": "91615df3-f838-4da0-9953-fa14edd81b45",
   "metadata": {
    "tags": []
   },
   "outputs": [],
   "source": [
    "df = df[['original_hand', 'bid']]"
   ]
  },
  {
   "cell_type": "code",
   "execution_count": 1291,
   "id": "333a610f-6d7f-498e-8607-150a9c61143d",
   "metadata": {
    "tags": []
   },
   "outputs": [
    {
     "data": {
      "text/html": [
       "<div>\n",
       "<style scoped>\n",
       "    .dataframe tbody tr th:only-of-type {\n",
       "        vertical-align: middle;\n",
       "    }\n",
       "\n",
       "    .dataframe tbody tr th {\n",
       "        vertical-align: top;\n",
       "    }\n",
       "\n",
       "    .dataframe thead th {\n",
       "        text-align: right;\n",
       "    }\n",
       "</style>\n",
       "<table border=\"1\" class=\"dataframe\">\n",
       "  <thead>\n",
       "    <tr style=\"text-align: right;\">\n",
       "      <th></th>\n",
       "      <th>original_hand</th>\n",
       "      <th>bid</th>\n",
       "    </tr>\n",
       "  </thead>\n",
       "  <tbody>\n",
       "    <tr>\n",
       "      <th>0</th>\n",
       "      <td>QTTQK</td>\n",
       "      <td>749</td>\n",
       "    </tr>\n",
       "    <tr>\n",
       "      <th>1</th>\n",
       "      <td>JQAA2</td>\n",
       "      <td>148</td>\n",
       "    </tr>\n",
       "  </tbody>\n",
       "</table>\n",
       "</div>"
      ],
      "text/plain": [
       "  original_hand  bid\n",
       "0         QTTQK  749\n",
       "1         JQAA2  148"
      ]
     },
     "execution_count": 1291,
     "metadata": {},
     "output_type": "execute_result"
    }
   ],
   "source": [
    "df.head(2)"
   ]
  },
  {
   "cell_type": "code",
   "execution_count": 1292,
   "id": "6d229a0e-5921-4182-8657-fa39bb79fbba",
   "metadata": {},
   "outputs": [],
   "source": [
    "def update_J_type(hand: str) -> str:\n",
    "    \"\"\"\n",
    "    Update hand type for hands with J cards in them.\n",
    "    \"\"\"\n",
    "    if 'J' in hand:\n",
    "        j_count = hand.count('J')\n",
    "        most_common_card = \"\"\n",
    "        card_count = 0\n",
    "        card_point = 0\n",
    "\n",
    "        for card in hand:\n",
    "            if card != 'J':\n",
    "                # Check card count is higher than previous count, or if card points are higher than current common card — it's stronger \n",
    "                if hand.count(card) > card_count or card_count == hand.count(card) and CARDS[card] > card_point:\n",
    "                    card_count = hand.count(card)\n",
    "                    card_point = CARDS[card]\n",
    "                    most_common_card = card\n",
    "        \n",
    "        if most_common_card:\n",
    "            return hand.replace('J', most_common_card)\n",
    "    \n",
    "    return hand"
   ]
  },
  {
   "cell_type": "markdown",
   "id": "3e1c7c51-d8f2-4a0d-80cd-b0db6fc38c65",
   "metadata": {},
   "source": [
    "Transform hands with the card `J`, and new columns `j_transform`, `hand_type` to dataframe:"
   ]
  },
  {
   "cell_type": "code",
   "execution_count": 1293,
   "id": "d66e55b7-8275-4534-a410-735bf4fd6954",
   "metadata": {
    "tags": []
   },
   "outputs": [],
   "source": [
    "df['j_transform'] = df['original_hand'].apply(update_J_type)\n",
    "df['hand_type'] = df['j_transform'].apply(get_hand_type)"
   ]
  },
  {
   "cell_type": "code",
   "execution_count": 1294,
   "id": "49fcc1ae-0c7a-4856-97de-18e39c886691",
   "metadata": {
    "tags": []
   },
   "outputs": [
    {
     "data": {
      "text/html": [
       "<div>\n",
       "<style scoped>\n",
       "    .dataframe tbody tr th:only-of-type {\n",
       "        vertical-align: middle;\n",
       "    }\n",
       "\n",
       "    .dataframe tbody tr th {\n",
       "        vertical-align: top;\n",
       "    }\n",
       "\n",
       "    .dataframe thead th {\n",
       "        text-align: right;\n",
       "    }\n",
       "</style>\n",
       "<table border=\"1\" class=\"dataframe\">\n",
       "  <thead>\n",
       "    <tr style=\"text-align: right;\">\n",
       "      <th></th>\n",
       "      <th>original_hand</th>\n",
       "      <th>bid</th>\n",
       "      <th>j_transform</th>\n",
       "      <th>hand_type</th>\n",
       "    </tr>\n",
       "  </thead>\n",
       "  <tbody>\n",
       "    <tr>\n",
       "      <th>0</th>\n",
       "      <td>QTTQK</td>\n",
       "      <td>749</td>\n",
       "      <td>QTTQK</td>\n",
       "      <td>Two Pair</td>\n",
       "    </tr>\n",
       "    <tr>\n",
       "      <th>1</th>\n",
       "      <td>JQAA2</td>\n",
       "      <td>148</td>\n",
       "      <td>AQAA2</td>\n",
       "      <td>Three of a kind</td>\n",
       "    </tr>\n",
       "  </tbody>\n",
       "</table>\n",
       "</div>"
      ],
      "text/plain": [
       "  original_hand  bid j_transform        hand_type\n",
       "0         QTTQK  749       QTTQK         Two Pair\n",
       "1         JQAA2  148       AQAA2  Three of a kind"
      ]
     },
     "execution_count": 1294,
     "metadata": {},
     "output_type": "execute_result"
    }
   ],
   "source": [
    "df.head(2)"
   ]
  },
  {
   "cell_type": "markdown",
   "id": "301be8ad-5c3b-401f-9cd5-185d5dde287c",
   "metadata": {},
   "source": [
    "Repeat formatting steps from `Part 01`:"
   ]
  },
  {
   "cell_type": "code",
   "execution_count": 1295,
   "id": "48376bd4-c5e2-4ad6-8002-9cbbeff89529",
   "metadata": {
    "tags": []
   },
   "outputs": [],
   "source": [
    "hand_ranks = []"
   ]
  },
  {
   "cell_type": "code",
   "execution_count": 1296,
   "id": "ecefcdb0-1afd-4875-a27b-0d8f12dabd7a",
   "metadata": {
    "tags": []
   },
   "outputs": [],
   "source": [
    "for wh in WINNING_HANDS.values():\n",
    "    # Filter dataframe by current value\n",
    "    temp_df = df[df['hand_type'] == wh].copy()\n",
    "    \n",
    "    if len(temp_df.index) > 0:\n",
    "        # Add new column `hand_score` to temp_df\n",
    "        temp_df['hand_score'] = temp_df['original_hand'].apply(get_hand_score)\n",
    "        # Sort `hand_score` column from max value - min value\n",
    "        temp_df.sort_values(['hand_score'], ascending=False, inplace=True)\n",
    "        # Get index postion of values and append them to hand_ranks\n",
    "        hand_ranks += temp_df.index.tolist()"
   ]
  },
  {
   "cell_type": "markdown",
   "id": "49914d2f-cfe9-4de0-8200-a34569f98fe5",
   "metadata": {},
   "source": [
    "Create placeholder columns:"
   ]
  },
  {
   "cell_type": "code",
   "execution_count": 1297,
   "id": "83018fb4-a106-4131-bcde-f84e398f694b",
   "metadata": {
    "tags": []
   },
   "outputs": [],
   "source": [
    "df['hand_score'] = np.nan\n",
    "df['ranking'] = np.nan"
   ]
  },
  {
   "cell_type": "code",
   "execution_count": 1298,
   "id": "b33eb4fc-aa5c-4bdb-8d21-b9bdf170ea46",
   "metadata": {
    "tags": []
   },
   "outputs": [],
   "source": [
    "for rank, index in enumerate(hand_ranks):\n",
    "    df.loc[index, 'ranking'] = (len(hand_ranks) - rank)\n",
    "    df.loc[index, 'hand_score'] = get_hand_score(df.iloc[index]['original_hand'])"
   ]
  },
  {
   "cell_type": "code",
   "execution_count": 1299,
   "id": "f2150e90-9f0f-4131-9526-b61ee92d35a7",
   "metadata": {
    "tags": []
   },
   "outputs": [
    {
     "data": {
      "text/html": [
       "<div>\n",
       "<style scoped>\n",
       "    .dataframe tbody tr th:only-of-type {\n",
       "        vertical-align: middle;\n",
       "    }\n",
       "\n",
       "    .dataframe tbody tr th {\n",
       "        vertical-align: top;\n",
       "    }\n",
       "\n",
       "    .dataframe thead th {\n",
       "        text-align: right;\n",
       "    }\n",
       "</style>\n",
       "<table border=\"1\" class=\"dataframe\">\n",
       "  <thead>\n",
       "    <tr style=\"text-align: right;\">\n",
       "      <th></th>\n",
       "      <th>original_hand</th>\n",
       "      <th>bid</th>\n",
       "      <th>j_transform</th>\n",
       "      <th>hand_type</th>\n",
       "      <th>hand_score</th>\n",
       "      <th>ranking</th>\n",
       "    </tr>\n",
       "  </thead>\n",
       "  <tbody>\n",
       "    <tr>\n",
       "      <th>0</th>\n",
       "      <td>QTTQK</td>\n",
       "      <td>749</td>\n",
       "      <td>QTTQK</td>\n",
       "      <td>Two Pair</td>\n",
       "      <td>1.201001e+11</td>\n",
       "      <td>442.0</td>\n",
       "    </tr>\n",
       "    <tr>\n",
       "      <th>1</th>\n",
       "      <td>JQAA2</td>\n",
       "      <td>148</td>\n",
       "      <td>AQAA2</td>\n",
       "      <td>Three of a kind</td>\n",
       "      <td>1.201407e+08</td>\n",
       "      <td>485.0</td>\n",
       "    </tr>\n",
       "    <tr>\n",
       "      <th>2</th>\n",
       "      <td>37J44</td>\n",
       "      <td>319</td>\n",
       "      <td>37444</td>\n",
       "      <td>Three of a kind</td>\n",
       "      <td>3.007000e+10</td>\n",
       "      <td>520.0</td>\n",
       "    </tr>\n",
       "  </tbody>\n",
       "</table>\n",
       "</div>"
      ],
      "text/plain": [
       "  original_hand  bid j_transform        hand_type    hand_score  ranking\n",
       "0         QTTQK  749       QTTQK         Two Pair  1.201001e+11    442.0\n",
       "1         JQAA2  148       AQAA2  Three of a kind  1.201407e+08    485.0\n",
       "2         37J44  319       37444  Three of a kind  3.007000e+10    520.0"
      ]
     },
     "execution_count": 1299,
     "metadata": {},
     "output_type": "execute_result"
    }
   ],
   "source": [
    "df.head(3)"
   ]
  },
  {
   "cell_type": "markdown",
   "id": "7cd94659-cc1c-4386-9eb8-02bf1070ea2e",
   "metadata": {},
   "source": [
    "Add new column `total_winnings` to dataframe:"
   ]
  },
  {
   "cell_type": "code",
   "execution_count": 1300,
   "id": "e283efe1-673b-4ba1-bb80-5b05d735b312",
   "metadata": {
    "tags": []
   },
   "outputs": [],
   "source": [
    "df['total_winnings'] = df['bid'] * df['ranking']"
   ]
  },
  {
   "cell_type": "code",
   "execution_count": 1301,
   "id": "d7ec5728-2f73-49db-8c11-47234a66d871",
   "metadata": {
    "tags": []
   },
   "outputs": [
    {
     "data": {
      "text/html": [
       "<div>\n",
       "<style scoped>\n",
       "    .dataframe tbody tr th:only-of-type {\n",
       "        vertical-align: middle;\n",
       "    }\n",
       "\n",
       "    .dataframe tbody tr th {\n",
       "        vertical-align: top;\n",
       "    }\n",
       "\n",
       "    .dataframe thead th {\n",
       "        text-align: right;\n",
       "    }\n",
       "</style>\n",
       "<table border=\"1\" class=\"dataframe\">\n",
       "  <thead>\n",
       "    <tr style=\"text-align: right;\">\n",
       "      <th></th>\n",
       "      <th>original_hand</th>\n",
       "      <th>bid</th>\n",
       "      <th>j_transform</th>\n",
       "      <th>hand_type</th>\n",
       "      <th>hand_score</th>\n",
       "      <th>ranking</th>\n",
       "      <th>total_winnings</th>\n",
       "    </tr>\n",
       "  </thead>\n",
       "  <tbody>\n",
       "    <tr>\n",
       "      <th>0</th>\n",
       "      <td>QTTQK</td>\n",
       "      <td>749</td>\n",
       "      <td>QTTQK</td>\n",
       "      <td>Two Pair</td>\n",
       "      <td>1.201001e+11</td>\n",
       "      <td>442.0</td>\n",
       "      <td>331058.0</td>\n",
       "    </tr>\n",
       "    <tr>\n",
       "      <th>1</th>\n",
       "      <td>JQAA2</td>\n",
       "      <td>148</td>\n",
       "      <td>AQAA2</td>\n",
       "      <td>Three of a kind</td>\n",
       "      <td>1.201407e+08</td>\n",
       "      <td>485.0</td>\n",
       "      <td>71780.0</td>\n",
       "    </tr>\n",
       "  </tbody>\n",
       "</table>\n",
       "</div>"
      ],
      "text/plain": [
       "  original_hand  bid j_transform        hand_type    hand_score  ranking  \\\n",
       "0         QTTQK  749       QTTQK         Two Pair  1.201001e+11    442.0   \n",
       "1         JQAA2  148       AQAA2  Three of a kind  1.201407e+08    485.0   \n",
       "\n",
       "   total_winnings  \n",
       "0        331058.0  \n",
       "1         71780.0  "
      ]
     },
     "execution_count": 1301,
     "metadata": {},
     "output_type": "execute_result"
    }
   ],
   "source": [
    "df.head(2)"
   ]
  },
  {
   "cell_type": "markdown",
   "id": "f20d7dd0-0172-4c0b-b9b2-26dfd77d962f",
   "metadata": {},
   "source": [
    "Get sum of `total_winnings`:"
   ]
  },
  {
   "cell_type": "code",
   "execution_count": 1302,
   "id": "c590e4af-55ef-48bd-9a5a-ba08c451d237",
   "metadata": {
    "tags": []
   },
   "outputs": [
    {
     "data": {
      "text/plain": [
       "254412181.0"
      ]
     },
     "execution_count": 1302,
     "metadata": {},
     "output_type": "execute_result"
    }
   ],
   "source": [
    "df['total_winnings'].sum()"
   ]
  }
 ],
 "metadata": {
  "kernelspec": {
   "display_name": "fullstack",
   "language": "python",
   "name": "fullstack"
  },
  "language_info": {
   "codemirror_mode": {
    "name": "ipython",
    "version": 3
   },
   "file_extension": ".py",
   "mimetype": "text/x-python",
   "name": "python",
   "nbconvert_exporter": "python",
   "pygments_lexer": "ipython3",
   "version": "3.11.5"
  }
 },
 "nbformat": 4,
 "nbformat_minor": 5
}
