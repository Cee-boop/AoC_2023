{
 "cells": [
  {
   "cell_type": "markdown",
   "id": "43c466db-d85f-4b1b-88ce-fcdee6934ee4",
   "metadata": {},
   "source": [
    "# Day 9 — Mirage Maintenance"
   ]
  },
  {
   "cell_type": "code",
   "execution_count": 158,
   "id": "b63eb174-8cba-4bbf-941d-7c38945d9537",
   "metadata": {
    "tags": []
   },
   "outputs": [],
   "source": [
    "import numpy as np\n",
    "import pandas as pd"
   ]
  },
  {
   "cell_type": "markdown",
   "id": "e0c3548a-3523-4cc9-a530-29c80d09dc00",
   "metadata": {},
   "source": [
    "Parse input:"
   ]
  },
  {
   "cell_type": "code",
   "execution_count": 159,
   "id": "26531b88-f2a2-4bf4-8be7-3ffdf821a636",
   "metadata": {
    "tags": []
   },
   "outputs": [],
   "source": [
    "with open(file='day_09_input.txt') as file:\n",
    "    op = [np.array(line.split(' ')).astype(int) for line in file.read().split('\\n')]  # Oasis report"
   ]
  },
  {
   "cell_type": "code",
   "execution_count": 160,
   "id": "de7a0f21-515a-4035-8c58-e9b9722d1733",
   "metadata": {
    "tags": []
   },
   "outputs": [
    {
     "data": {
      "text/plain": [
       "[array([     18,      34,      62,     104,     162,     241,     354,\n",
       "            541,     935,    1948,    4716,   12044,   30251,   72571,\n",
       "         165186,  357653,  740584, 1475142, 2841482, 5317016, 9700712]),\n",
       " array([     -1,       9,      31,      63,     102,     139,     150,\n",
       "             87,    -129,    -609,   -1472,   -2740,   -4028,   -3797,\n",
       "           2219,   24016,   82639,  219061,  508309, 1081061, 2155578]),\n",
       " array([     -5,     -12,     -21,     -31,     -28,      39,     297,\n",
       "           1010,    2680,    6225,   13298,   26846,   52051,   97846,\n",
       "         179258,  320897,  561985,  963402, 1617317, 2660071, 4289086]),\n",
       " array([      16,       31,       55,       93,      166,      327,\n",
       "             690,     1491,     3227,     6970,    15040,    32365,\n",
       "           69094,   145421,   300225,   606225,  1196290,  2309185,\n",
       "         4370163,  8136063, 14963082]),\n",
       " array([ 18,  23,  28,  33,  38,  43,  48,  53,  58,  63,  68,  73,  78,\n",
       "         83,  88,  93,  98, 103, 108, 113, 118])]"
      ]
     },
     "execution_count": 160,
     "metadata": {},
     "output_type": "execute_result"
    }
   ],
   "source": [
    "op[:5]"
   ]
  },
  {
   "cell_type": "markdown",
   "id": "d8129754-8524-4721-9e3b-25e2907606c0",
   "metadata": {},
   "source": [
    "### Part 01 / Part 02"
   ]
  },
  {
   "cell_type": "code",
   "execution_count": 164,
   "id": "d154e000-71bf-463d-b696-d92ee8818272",
   "metadata": {},
   "outputs": [],
   "source": [
    "def extrapolated_total(hist: list) -> int:\n",
    "    \"\"\"\n",
    "    Predict future values in history and return the sum of those values.\n",
    "    \"\"\"\n",
    "    total_hist = 0\n",
    "    \n",
    "    for i in range(len(hist)):\n",
    "        placeholders = np.array([])  # Placeholder values for current hist\n",
    "        diff = np.diff(hist[i])\n",
    "\n",
    "        while True:\n",
    "            # Append last number in diff\n",
    "            placeholders = np.append(placeholders, diff[-1]).astype(int)\n",
    "\n",
    "            if np.all(diff == 0):\n",
    "                break\n",
    "            else:\n",
    "                diff = np.diff(diff)\n",
    "\n",
    "        # Get the next value in current hist\n",
    "        next_val = hist[i][-1] + placeholders[-1]\n",
    "        # All all values to total_hist\n",
    "        total_hist += placeholders.sum() + next_val\n",
    "    \n",
    "    return total_hist"
   ]
  },
  {
   "cell_type": "markdown",
   "id": "e3b30651-d888-44fd-b89a-71f9536cf3b9",
   "metadata": {},
   "source": [
    "Analyze your OASIS report and extrapolate the next value for each history. What is the sum of these extrapolated values?"
   ]
  },
  {
   "cell_type": "code",
   "execution_count": 162,
   "id": "b15c0ea7-077a-47f1-891d-c5f9b4ba819e",
   "metadata": {
    "tags": []
   },
   "outputs": [
    {
     "data": {
      "text/plain": [
       "1731106378"
      ]
     },
     "execution_count": 162,
     "metadata": {},
     "output_type": "execute_result"
    }
   ],
   "source": [
    "# Part 01\n",
    "extrapolated_total(op)"
   ]
  },
  {
   "cell_type": "code",
   "execution_count": 163,
   "id": "6e5fee66-7caf-4608-8777-75f0655af470",
   "metadata": {
    "tags": []
   },
   "outputs": [
    {
     "data": {
      "text/plain": [
       "1087"
      ]
     },
     "execution_count": 163,
     "metadata": {},
     "output_type": "execute_result"
    }
   ],
   "source": [
    "# Part 02\n",
    "extrapolated_total([hist[::-1] for hist in op])"
   ]
  }
 ],
 "metadata": {
  "kernelspec": {
   "display_name": "fullstack",
   "language": "python",
   "name": "fullstack"
  },
  "language_info": {
   "codemirror_mode": {
    "name": "ipython",
    "version": 3
   },
   "file_extension": ".py",
   "mimetype": "text/x-python",
   "name": "python",
   "nbconvert_exporter": "python",
   "pygments_lexer": "ipython3",
   "version": "3.11.5"
  }
 },
 "nbformat": 4,
 "nbformat_minor": 5
}
