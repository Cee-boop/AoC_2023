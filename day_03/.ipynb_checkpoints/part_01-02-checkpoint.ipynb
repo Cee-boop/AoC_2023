{
 "cells": [
  {
   "cell_type": "markdown",
   "id": "465cd4b8-eb64-4c57-8d66-e30d8db8d888",
   "metadata": {},
   "source": [
    "# Day 3 — Gear Ratios"
   ]
  },
  {
   "cell_type": "markdown",
   "id": "1f0cf5e0-ed79-40b9-8ad2-cf4384dfe754",
   "metadata": {},
   "source": [
    "* [Part 01](#—-Part-01)\n",
    "* [Part 02](#—-Part-02)"
   ]
  },
  {
   "cell_type": "code",
   "execution_count": 289,
   "id": "faf9b4a0-8c46-491e-afe3-40dcfa523cf9",
   "metadata": {
    "tags": []
   },
   "outputs": [],
   "source": [
    "import re\n",
    "import numpy as np\n",
    "import pandas as pd"
   ]
  },
  {
   "cell_type": "markdown",
   "id": "e549e25a-b949-417e-97a6-d76a1c5152c4",
   "metadata": {},
   "source": [
    "Parse engine schematic:"
   ]
  },
  {
   "cell_type": "code",
   "execution_count": 290,
   "id": "701d7b3b-e218-42f3-abd4-e6cf80b6b386",
   "metadata": {
    "tags": []
   },
   "outputs": [],
   "source": [
    "schema = []  # Stores all lines\n",
    "numbers = []  # Stores all numbers and index positions in individual dictionaries for each line\n",
    "symbols = []  # Stores all unique symbols found in input "
   ]
  },
  {
   "cell_type": "code",
   "execution_count": 291,
   "id": "ea2f974d-e489-4308-a98b-c3a27f4e9f56",
   "metadata": {
    "tags": []
   },
   "outputs": [],
   "source": [
    "def get_number_indices(num: str, line: str, line_index_pos: int) -> tuple:\n",
    "    \"\"\"\n",
    "    Determines the index postion of current number in line.\n",
    "    \"\"\"\n",
    "    window = len(num)  # Size of window\n",
    "    start = 0  # Start of window\n",
    "    temp = \"\"  # Variable to store string in within window\n",
    "    \n",
    "    for end, index in enumerate(range(line_index_pos, len(line))):\n",
    "        # Add new character to window\n",
    "        temp += line[index]\n",
    "        if end - start + 1 == window:\n",
    "            if temp == num:\n",
    "                return (index + 1, index - window + 1, num)\n",
    "            \n",
    "            # Remove first character from window\n",
    "            temp = temp[1:]\n",
    "            # Increment start of window by 1\n",
    "            start += 1    "
   ]
  },
  {
   "cell_type": "code",
   "execution_count": 292,
   "id": "e14b0f19-e83f-4582-9cd6-6634395eb38d",
   "metadata": {
    "tags": []
   },
   "outputs": [],
   "source": [
    "with open(file='day_03_input.txt') as file:\n",
    "    for index, line in enumerate(file.read().strip().split('\\n')):\n",
    "        schema.append(line)\n",
    "        \n",
    "        # Find all valid whole numbers and their index position in current line\n",
    "        line_index_pos = 0\n",
    "        all_numbers = re.findall(r'\\d+', line)\n",
    "        # Add new dictionary to numbers\n",
    "        numbers.append({})\n",
    "        if all_numbers:\n",
    "            # Iterate through each line and store the correct index pos for each number\n",
    "            for number in all_numbers:\n",
    "                line_index_pos, index_pos, *_ = get_number_indices(number, line, line_index_pos)\n",
    "                numbers[index][index_pos] = number\n",
    "        \n",
    "        # Iterate over line to find unique symbols\n",
    "        for char in line:\n",
    "            if char != '.' and not char.isnumeric() and char not in symbols:\n",
    "                symbols.append(char)"
   ]
  },
  {
   "cell_type": "code",
   "execution_count": 293,
   "id": "6de872d4-8d4d-415e-ad04-9d1875e5b26c",
   "metadata": {
    "tags": []
   },
   "outputs": [
    {
     "data": {
      "text/plain": [
       "[{44: '411', 68: '363', 73: '134', 85: '463', 89: '775', 118: '506'}]"
      ]
     },
     "execution_count": 293,
     "metadata": {},
     "output_type": "execute_result"
    }
   ],
   "source": [
    "numbers[:1]"
   ]
  },
  {
   "cell_type": "markdown",
   "id": "76797e48-d91f-454b-a360-6800050aaa12",
   "metadata": {},
   "source": [
    "### — Part 01"
   ]
  },
  {
   "cell_type": "markdown",
   "id": "27364776-aeaf-4ec0-ab1b-5bd02aa552b9",
   "metadata": {},
   "source": [
    "The engineer explains that an engine part seems to be missing from the engine, but nobody can figure out which one. If you can add up all the part numbers in the engine schematic, it should be easy to work out which part is missing.\n",
    "\n",
    "The engine schematic (your puzzle input) consists of a visual representation of the engine. There are lots of numbers and symbols you don't really understand, but apparently any number adjacent to a symbol, even diagonally, is a \"part number\" and should be included in your sum. (Periods (.) do not count as a symbol.)\n",
    "\n"
   ]
  },
  {
   "cell_type": "code",
   "execution_count": 294,
   "id": "aad154dc-bdbd-459b-abaf-d96da6834f58",
   "metadata": {
    "tags": []
   },
   "outputs": [],
   "source": [
    "# Boundaries of schema 2D array\n",
    "GRID_LENGTH = len(schema)\n",
    "GRID_WIDTH = len(schema[0])"
   ]
  },
  {
   "cell_type": "markdown",
   "id": "3b7a4648-2d46-4b1d-b24b-763a9aeca565",
   "metadata": {},
   "source": [
    "Figure out if a number is adjacent to a symbol:"
   ]
  },
  {
   "cell_type": "code",
   "execution_count": 295,
   "id": "4c2ee135-80a4-48a0-915f-7a584847ab58",
   "metadata": {
    "tags": []
   },
   "outputs": [],
   "source": [
    "def adjacent_symbols(r: int, c: int) -> bool:\n",
    "    \"\"\"\n",
    "    Traverse 2D array while identifying symbols adjacent to numeric characters.\n",
    "    \"\"\"\n",
    "    global symbols, schema\n",
    "    \n",
    "    # Valid directions\n",
    "    directions = [(r, c+1), (r, c-1), (r+1, c), (r-1, c), (r+1, c+1), (r-1, c-1), (r+1, c-1), (r-1, c+1)]\n",
    "\n",
    "    for new_r, new_c in directions:\n",
    "        # Check if current new_r, new_c is out of bounds \n",
    "        if new_r >= GRID_LENGTH or new_c >= GRID_WIDTH or new_r < 0 or new_c < 0:\n",
    "            continue\n",
    "        if schema[new_r][new_c] in symbols:  # Adjacent symbol detected, valid part number found\n",
    "            return True\n",
    "    \n",
    "    return False\n",
    "\n",
    "\n",
    "def valid_part_number(r: int, start: int, end: int) -> bool:\n",
    "    \"\"\"\n",
    "    Check if there are any symbols adjacent to each number within the entire number.\n",
    "    \"\"\"\n",
    "    global symbols, schema\n",
    "    \n",
    "    for c in range(start, end):\n",
    "        if adjacent_symbols(r, c):  # Check if current number is a valid part number\n",
    "            return True\n",
    "    \n",
    "    return False"
   ]
  },
  {
   "cell_type": "markdown",
   "id": "b01e5e70-250d-438e-aba2-2b6e6493b630",
   "metadata": {},
   "source": [
    "Iterate through `numbers` finding valid part numbers:"
   ]
  },
  {
   "cell_type": "code",
   "execution_count": 296,
   "id": "31c8f4e6-0a99-49ac-91b9-b27c1ad0b5c5",
   "metadata": {
    "tags": []
   },
   "outputs": [],
   "source": [
    "# Stores valid part\n",
    "valid_parts = []\n",
    "# Store index positions for valid parts\n",
    "valid_part_indices = []\n",
    "# Give uniique id to each part\n",
    "id_count = 0"
   ]
  },
  {
   "cell_type": "code",
   "execution_count": 297,
   "id": "ed72c0f6-8b5b-438b-8cf3-8855cc758cc6",
   "metadata": {
    "tags": []
   },
   "outputs": [],
   "source": [
    "for i in range(len(numbers)):\n",
    "    if not numbers[i]:  # Skip lines with no numbers\n",
    "        continue\n",
    "    \n",
    "    for index, number in numbers[i].items():\n",
    "        # Starting index and ending index of current number \n",
    "        start, end = index, index + len(number)\n",
    "        \n",
    "        # Check if current number is a valid part\n",
    "        if valid_part_number(i, start, end):\n",
    "            id_count += 1\n",
    "            valid_parts.append(int(number))\n",
    "            valid_part_indices.append((id_count, i, start, end, int(number)))"
   ]
  },
  {
   "cell_type": "code",
   "execution_count": 298,
   "id": "967021a4-394b-4762-9252-e041c7e8430e",
   "metadata": {
    "tags": []
   },
   "outputs": [
    {
     "data": {
      "text/plain": [
       "[411, 363, 134, 463, 775]"
      ]
     },
     "execution_count": 298,
     "metadata": {},
     "output_type": "execute_result"
    }
   ],
   "source": [
    "valid_parts[:5]"
   ]
  },
  {
   "cell_type": "code",
   "execution_count": 299,
   "id": "93960136-42a7-49dd-9262-28b42c9539e6",
   "metadata": {
    "tags": []
   },
   "outputs": [
    {
     "data": {
      "text/plain": [
       "536202"
      ]
     },
     "execution_count": 299,
     "metadata": {},
     "output_type": "execute_result"
    }
   ],
   "source": [
    "sum(valid_parts)"
   ]
  },
  {
   "cell_type": "markdown",
   "id": "da0475e1-4453-4d24-ab0e-20ee61d17589",
   "metadata": {},
   "source": [
    "### — Part 02"
   ]
  },
  {
   "cell_type": "markdown",
   "id": "e092e0e0-e915-4a1d-a0b2-1e9590d7d77d",
   "metadata": {},
   "source": [
    "The missing part wasn't the only issue - one of the gears in the engine is wrong. A gear is any * symbol that is adjacent to exactly two part numbers. Its gear ratio is the result of multiplying those two numbers together."
   ]
  },
  {
   "cell_type": "code",
   "execution_count": 305,
   "id": "5b529467-e80d-4ae1-9411-590b4ae4d135",
   "metadata": {
    "tags": []
   },
   "outputs": [],
   "source": [
    "def adjacent_numbers(r: int, c: int) -> list:\n",
    "    \"\"\"\n",
    "    Traverse 2D array while identifying numbers adjacent to the '*' symbol.\n",
    "    \"\"\"\n",
    "    global valid_part_indices\n",
    "    \n",
    "    # Valid directions\n",
    "    directions = [(r, c+1), (r, c-1), (r+1, c), (r-1, c), (r+1, c+1), (r-1, c-1), (r+1, c-1), (r-1, c+1)]\n",
    "    # Keep tracks of ids checked\n",
    "    ids_checked = []\n",
    "    # Stores valid numbers found around current symbol\n",
    "    numbers_found = []\n",
    "    \n",
    "    for new_r, new_c in directions:\n",
    "        # Check if current new_r, new_c is out of bounds \n",
    "        if new_r >= GRID_LENGTH or new_c >= GRID_WIDTH or new_r < 0 or new_c < 0:\n",
    "            continue\n",
    "        \n",
    "        # Check for any valid numbers in current direction\n",
    "        for id_, r_, start, end, number in valid_part_indices:\n",
    "            if id_ in ids_checked:\n",
    "                continue\n",
    "            # Checking all current number index positions\n",
    "            for c_ in range(start, end):\n",
    "                if (r_, c_) == (new_r, new_c):\n",
    "                    numbers_found.append(number)\n",
    "                    ids_checked.append(id_)\n",
    "                    break\n",
    "    \n",
    "    # Found valid gear\n",
    "    if len(numbers_found) == 2:\n",
    "        return numbers_found[0] * numbers_found[-1]\n",
    "    \n",
    "    # No valid gear found\n",
    "    return 0"
   ]
  },
  {
   "cell_type": "markdown",
   "id": "88bb8fa5-1e1f-457c-8d4c-f0ebbf1dfce5",
   "metadata": {},
   "source": [
    "Iterate through `schema` for `*` symbols:"
   ]
  },
  {
   "cell_type": "code",
   "execution_count": 301,
   "id": "c8bf94e4-9a6d-4ddd-919d-c21b96b1e8c3",
   "metadata": {
    "tags": []
   },
   "outputs": [],
   "source": [
    "gear_ratios = []"
   ]
  },
  {
   "cell_type": "code",
   "execution_count": 302,
   "id": "a12d117f-0167-4a37-a6f9-f621c0851015",
   "metadata": {
    "tags": []
   },
   "outputs": [],
   "source": [
    "for i in range(len(schema)):\n",
    "    for j in range(len(schema[i])):\n",
    "        if schema[i][j] == '*':\n",
    "            gear_ratios.append(adjacent_numbers(i, j))"
   ]
  },
  {
   "cell_type": "code",
   "execution_count": 306,
   "id": "e26ee54e-762b-4225-a8c3-c43edb881bbc",
   "metadata": {
    "tags": []
   },
   "outputs": [
    {
     "data": {
      "text/plain": [
       "[351405, 336501, 358825, 386100, 229440]"
      ]
     },
     "execution_count": 306,
     "metadata": {},
     "output_type": "execute_result"
    }
   ],
   "source": [
    "gear_ratios[:5]"
   ]
  },
  {
   "cell_type": "code",
   "execution_count": 303,
   "id": "76dfec45-9a89-4c0b-9ae1-da7e7c7c3f1f",
   "metadata": {
    "tags": []
   },
   "outputs": [
    {
     "data": {
      "text/plain": [
       "78272573"
      ]
     },
     "execution_count": 303,
     "metadata": {},
     "output_type": "execute_result"
    }
   ],
   "source": [
    "sum(gear_ratios)"
   ]
  }
 ],
 "metadata": {
  "kernelspec": {
   "display_name": "fullstack",
   "language": "python",
   "name": "fullstack"
  },
  "language_info": {
   "codemirror_mode": {
    "name": "ipython",
    "version": 3
   },
   "file_extension": ".py",
   "mimetype": "text/x-python",
   "name": "python",
   "nbconvert_exporter": "python",
   "pygments_lexer": "ipython3",
   "version": "3.11.5"
  }
 },
 "nbformat": 4,
 "nbformat_minor": 5
}
