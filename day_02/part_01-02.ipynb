{
 "cells": [
  {
   "cell_type": "markdown",
   "id": "4fd38201-7d2d-4b00-b14e-39b09339f302",
   "metadata": {},
   "source": [
    "# Day 02 — Cube Conundrum"
   ]
  },
  {
   "cell_type": "markdown",
   "id": "51b6ef25-b80b-4812-bffa-c5bfdb9d57e1",
   "metadata": {},
   "source": [
    "- [Part 01](#—-Part-01)\n",
    "- [Part 02](#—-Part-02)"
   ]
  },
  {
   "cell_type": "code",
   "execution_count": 247,
   "id": "d53114bf-a86f-44a4-8921-c2f375bed1ff",
   "metadata": {
    "tags": []
   },
   "outputs": [],
   "source": [
    "import re\n",
    "import numpy as np\n",
    "import pandas as pd"
   ]
  },
  {
   "cell_type": "markdown",
   "id": "83274c1c-88c7-4cc7-bf1e-c76ecb139e9d",
   "metadata": {},
   "source": [
    "Parse and format input:"
   ]
  },
  {
   "cell_type": "code",
   "execution_count": 248,
   "id": "f0b3f214-8754-4aa8-863f-ceab956f8cee",
   "metadata": {
    "tags": []
   },
   "outputs": [],
   "source": [
    "data_dict = {'game_id': [], 'red_cubes': [], 'blue_cubes': [], 'green_cubes': []}"
   ]
  },
  {
   "cell_type": "code",
   "execution_count": 249,
   "id": "bffde04c-256d-4390-a559-2ba89f47fe04",
   "metadata": {
    "tags": []
   },
   "outputs": [],
   "source": [
    "with open(file='day_02_input.txt') as file:\n",
    "    for line in file.read().split('\\n'):\n",
    "        # Split line into sets\n",
    "        cube_sets = line.split(': ')[1].split('; ')\n",
    "        \n",
    "        # Get total of each cube colour\n",
    "        for set_ in cube_sets:\n",
    "            cube_counts = {'red': 0, 'blue': 0, 'green': 0}\n",
    "            for pick in set_.split(', '):\n",
    "                count, colour = pick.split(' ')\n",
    "                # Store count and colour in cube_counts\n",
    "                cube_counts[colour] += int(count)\n",
    "\n",
    "            # Get game id\n",
    "            game_id = int(re.sub('\\W+',' ', line).split(' ')[1])\n",
    "            # Store values in data dictionary \n",
    "            data_dict['game_id'].append(game_id)\n",
    "            data_dict['red_cubes'].append(cube_counts['red'])\n",
    "            data_dict['blue_cubes'].append(cube_counts['blue'])\n",
    "            data_dict['green_cubes'].append(cube_counts['green'])"
   ]
  },
  {
   "cell_type": "markdown",
   "id": "357b1bd2-f3e6-4faf-8349-c26a5e66dc1a",
   "metadata": {},
   "source": [
    "Create new dataframe:"
   ]
  },
  {
   "cell_type": "code",
   "execution_count": 250,
   "id": "aa95f573-7972-4a94-885e-a4f334f0103d",
   "metadata": {},
   "outputs": [],
   "source": [
    "df = pd.DataFrame(data_dict)"
   ]
  },
  {
   "cell_type": "markdown",
   "id": "8204ad61-546a-4457-9761-67ec6cd8d93a",
   "metadata": {},
   "source": [
    "**NOTE:** dataframe is split into sets so you'll see the same `game_id` in multiple rows, which indicates how many sets were in that particular game."
   ]
  },
  {
   "cell_type": "code",
   "execution_count": 251,
   "id": "f5a564ad-00b2-40cc-bff5-4ad983a306ef",
   "metadata": {
    "tags": []
   },
   "outputs": [
    {
     "data": {
      "text/html": [
       "<div>\n",
       "<style scoped>\n",
       "    .dataframe tbody tr th:only-of-type {\n",
       "        vertical-align: middle;\n",
       "    }\n",
       "\n",
       "    .dataframe tbody tr th {\n",
       "        vertical-align: top;\n",
       "    }\n",
       "\n",
       "    .dataframe thead th {\n",
       "        text-align: right;\n",
       "    }\n",
       "</style>\n",
       "<table border=\"1\" class=\"dataframe\">\n",
       "  <thead>\n",
       "    <tr style=\"text-align: right;\">\n",
       "      <th></th>\n",
       "      <th>game_id</th>\n",
       "      <th>red_cubes</th>\n",
       "      <th>blue_cubes</th>\n",
       "      <th>green_cubes</th>\n",
       "    </tr>\n",
       "  </thead>\n",
       "  <tbody>\n",
       "    <tr>\n",
       "      <th>0</th>\n",
       "      <td>1</td>\n",
       "      <td>0</td>\n",
       "      <td>1</td>\n",
       "      <td>8</td>\n",
       "    </tr>\n",
       "    <tr>\n",
       "      <th>1</th>\n",
       "      <td>1</td>\n",
       "      <td>0</td>\n",
       "      <td>15</td>\n",
       "      <td>14</td>\n",
       "    </tr>\n",
       "    <tr>\n",
       "      <th>2</th>\n",
       "      <td>1</td>\n",
       "      <td>0</td>\n",
       "      <td>9</td>\n",
       "      <td>3</td>\n",
       "    </tr>\n",
       "    <tr>\n",
       "      <th>3</th>\n",
       "      <td>1</td>\n",
       "      <td>1</td>\n",
       "      <td>8</td>\n",
       "      <td>8</td>\n",
       "    </tr>\n",
       "    <tr>\n",
       "      <th>4</th>\n",
       "      <td>1</td>\n",
       "      <td>1</td>\n",
       "      <td>10</td>\n",
       "      <td>9</td>\n",
       "    </tr>\n",
       "  </tbody>\n",
       "</table>\n",
       "</div>"
      ],
      "text/plain": [
       "   game_id  red_cubes  blue_cubes  green_cubes\n",
       "0        1          0           1            8\n",
       "1        1          0          15           14\n",
       "2        1          0           9            3\n",
       "3        1          1           8            8\n",
       "4        1          1          10            9"
      ]
     },
     "execution_count": 251,
     "metadata": {},
     "output_type": "execute_result"
    }
   ],
   "source": [
    "df.head()"
   ]
  },
  {
   "cell_type": "markdown",
   "id": "2c2ad60f-93b3-487e-96dc-8ad5370108e7",
   "metadata": {},
   "source": [
    "### — Part 01"
   ]
  },
  {
   "cell_type": "markdown",
   "id": "c7051b69-4b3e-4d20-a9de-fce1bfe3183d",
   "metadata": {},
   "source": [
    "The Elf would first like to know which games would have been possible if the bag contained only 12 red cubes, 13 green cubes, and 14 blue cubes?"
   ]
  },
  {
   "cell_type": "code",
   "execution_count": 252,
   "id": "cfe72988-cb86-4d32-bf65-9f784a98cc52",
   "metadata": {
    "tags": []
   },
   "outputs": [],
   "source": [
    "def viable_games(red: int, green: int, blue: int) -> bool:\n",
    "    \"\"\"\n",
    "    Determines if a game is viable depending of how cubes are are used in a game.\n",
    "    \"\"\"\n",
    "    cubes_available = {'red': 12, 'green': 13, 'blue': 14}\n",
    "    return red <= cubes_available['red'] and green <= cubes_available['green'] and blue <= cubes_available['blue']"
   ]
  },
  {
   "cell_type": "markdown",
   "id": "cc1b4395-7750-41f4-9b11-9c48c13b6137",
   "metadata": {},
   "source": [
    "Add new column `viable_game` to dataframe:"
   ]
  },
  {
   "cell_type": "code",
   "execution_count": 253,
   "id": "d5b39f2d-1656-4d45-9a69-18293d59c017",
   "metadata": {
    "tags": []
   },
   "outputs": [],
   "source": [
    "df['viable_game'] = df.apply(lambda x: viable_games(x['red_cubes'], x['green_cubes'], x['blue_cubes']), axis=1)"
   ]
  },
  {
   "cell_type": "code",
   "execution_count": 254,
   "id": "562d10f4-480b-4728-a52b-a09604bc9978",
   "metadata": {
    "tags": []
   },
   "outputs": [
    {
     "data": {
      "text/html": [
       "<div>\n",
       "<style scoped>\n",
       "    .dataframe tbody tr th:only-of-type {\n",
       "        vertical-align: middle;\n",
       "    }\n",
       "\n",
       "    .dataframe tbody tr th {\n",
       "        vertical-align: top;\n",
       "    }\n",
       "\n",
       "    .dataframe thead th {\n",
       "        text-align: right;\n",
       "    }\n",
       "</style>\n",
       "<table border=\"1\" class=\"dataframe\">\n",
       "  <thead>\n",
       "    <tr style=\"text-align: right;\">\n",
       "      <th></th>\n",
       "      <th>game_id</th>\n",
       "      <th>red_cubes</th>\n",
       "      <th>blue_cubes</th>\n",
       "      <th>green_cubes</th>\n",
       "      <th>viable_game</th>\n",
       "    </tr>\n",
       "  </thead>\n",
       "  <tbody>\n",
       "    <tr>\n",
       "      <th>0</th>\n",
       "      <td>1</td>\n",
       "      <td>0</td>\n",
       "      <td>1</td>\n",
       "      <td>8</td>\n",
       "      <td>True</td>\n",
       "    </tr>\n",
       "    <tr>\n",
       "      <th>1</th>\n",
       "      <td>1</td>\n",
       "      <td>0</td>\n",
       "      <td>15</td>\n",
       "      <td>14</td>\n",
       "      <td>False</td>\n",
       "    </tr>\n",
       "    <tr>\n",
       "      <th>2</th>\n",
       "      <td>1</td>\n",
       "      <td>0</td>\n",
       "      <td>9</td>\n",
       "      <td>3</td>\n",
       "      <td>True</td>\n",
       "    </tr>\n",
       "    <tr>\n",
       "      <th>3</th>\n",
       "      <td>1</td>\n",
       "      <td>1</td>\n",
       "      <td>8</td>\n",
       "      <td>8</td>\n",
       "      <td>True</td>\n",
       "    </tr>\n",
       "    <tr>\n",
       "      <th>4</th>\n",
       "      <td>1</td>\n",
       "      <td>1</td>\n",
       "      <td>10</td>\n",
       "      <td>9</td>\n",
       "      <td>True</td>\n",
       "    </tr>\n",
       "    <tr>\n",
       "      <th>5</th>\n",
       "      <td>2</td>\n",
       "      <td>2</td>\n",
       "      <td>3</td>\n",
       "      <td>1</td>\n",
       "      <td>True</td>\n",
       "    </tr>\n",
       "    <tr>\n",
       "      <th>6</th>\n",
       "      <td>2</td>\n",
       "      <td>2</td>\n",
       "      <td>5</td>\n",
       "      <td>2</td>\n",
       "      <td>True</td>\n",
       "    </tr>\n",
       "    <tr>\n",
       "      <th>7</th>\n",
       "      <td>2</td>\n",
       "      <td>0</td>\n",
       "      <td>10</td>\n",
       "      <td>3</td>\n",
       "      <td>True</td>\n",
       "    </tr>\n",
       "    <tr>\n",
       "      <th>8</th>\n",
       "      <td>2</td>\n",
       "      <td>8</td>\n",
       "      <td>1</td>\n",
       "      <td>0</td>\n",
       "      <td>True</td>\n",
       "    </tr>\n",
       "    <tr>\n",
       "      <th>9</th>\n",
       "      <td>2</td>\n",
       "      <td>3</td>\n",
       "      <td>5</td>\n",
       "      <td>1</td>\n",
       "      <td>True</td>\n",
       "    </tr>\n",
       "    <tr>\n",
       "      <th>10</th>\n",
       "      <td>2</td>\n",
       "      <td>5</td>\n",
       "      <td>1</td>\n",
       "      <td>3</td>\n",
       "      <td>True</td>\n",
       "    </tr>\n",
       "    <tr>\n",
       "      <th>11</th>\n",
       "      <td>3</td>\n",
       "      <td>0</td>\n",
       "      <td>1</td>\n",
       "      <td>4</td>\n",
       "      <td>True</td>\n",
       "    </tr>\n",
       "    <tr>\n",
       "      <th>12</th>\n",
       "      <td>3</td>\n",
       "      <td>1</td>\n",
       "      <td>6</td>\n",
       "      <td>5</td>\n",
       "      <td>True</td>\n",
       "    </tr>\n",
       "    <tr>\n",
       "      <th>13</th>\n",
       "      <td>3</td>\n",
       "      <td>0</td>\n",
       "      <td>10</td>\n",
       "      <td>11</td>\n",
       "      <td>True</td>\n",
       "    </tr>\n",
       "    <tr>\n",
       "      <th>14</th>\n",
       "      <td>4</td>\n",
       "      <td>3</td>\n",
       "      <td>12</td>\n",
       "      <td>12</td>\n",
       "      <td>True</td>\n",
       "    </tr>\n",
       "  </tbody>\n",
       "</table>\n",
       "</div>"
      ],
      "text/plain": [
       "    game_id  red_cubes  blue_cubes  green_cubes  viable_game\n",
       "0         1          0           1            8         True\n",
       "1         1          0          15           14        False\n",
       "2         1          0           9            3         True\n",
       "3         1          1           8            8         True\n",
       "4         1          1          10            9         True\n",
       "5         2          2           3            1         True\n",
       "6         2          2           5            2         True\n",
       "7         2          0          10            3         True\n",
       "8         2          8           1            0         True\n",
       "9         2          3           5            1         True\n",
       "10        2          5           1            3         True\n",
       "11        3          0           1            4         True\n",
       "12        3          1           6            5         True\n",
       "13        3          0          10           11         True\n",
       "14        4          3          12           12         True"
      ]
     },
     "execution_count": 254,
     "metadata": {},
     "output_type": "execute_result"
    }
   ],
   "source": [
    "df.head(15)"
   ]
  },
  {
   "cell_type": "markdown",
   "id": "ba53caf6-8a01-42d3-a8a0-36e17b46fa5e",
   "metadata": {},
   "source": [
    "Filter dataframe with `game_id`'s that are viable: "
   ]
  },
  {
   "cell_type": "code",
   "execution_count": 255,
   "id": "8f046cac-3e19-4f63-a85e-040ac8148a8f",
   "metadata": {
    "tags": []
   },
   "outputs": [],
   "source": [
    "viable_games = df.groupby(['game_id', 'viable_game'])[['red_cubes']].count().reset_index().drop_duplicates(subset=['game_id'], keep=False).drop(['red_cubes'], axis=1)\n",
    "viable_games = viable_games[~viable_games['viable_game'] == False]"
   ]
  },
  {
   "cell_type": "code",
   "execution_count": 256,
   "id": "15558f31-a638-4fa5-99f6-3afbd571f75c",
   "metadata": {
    "tags": []
   },
   "outputs": [
    {
     "data": {
      "text/html": [
       "<div>\n",
       "<style scoped>\n",
       "    .dataframe tbody tr th:only-of-type {\n",
       "        vertical-align: middle;\n",
       "    }\n",
       "\n",
       "    .dataframe tbody tr th {\n",
       "        vertical-align: top;\n",
       "    }\n",
       "\n",
       "    .dataframe thead th {\n",
       "        text-align: right;\n",
       "    }\n",
       "</style>\n",
       "<table border=\"1\" class=\"dataframe\">\n",
       "  <thead>\n",
       "    <tr style=\"text-align: right;\">\n",
       "      <th></th>\n",
       "      <th>game_id</th>\n",
       "      <th>viable_game</th>\n",
       "    </tr>\n",
       "  </thead>\n",
       "  <tbody>\n",
       "    <tr>\n",
       "      <th>2</th>\n",
       "      <td>2</td>\n",
       "      <td>True</td>\n",
       "    </tr>\n",
       "    <tr>\n",
       "      <th>3</th>\n",
       "      <td>3</td>\n",
       "      <td>True</td>\n",
       "    </tr>\n",
       "    <tr>\n",
       "      <th>10</th>\n",
       "      <td>7</td>\n",
       "      <td>True</td>\n",
       "    </tr>\n",
       "    <tr>\n",
       "      <th>13</th>\n",
       "      <td>9</td>\n",
       "      <td>True</td>\n",
       "    </tr>\n",
       "    <tr>\n",
       "      <th>14</th>\n",
       "      <td>10</td>\n",
       "      <td>True</td>\n",
       "    </tr>\n",
       "  </tbody>\n",
       "</table>\n",
       "</div>"
      ],
      "text/plain": [
       "    game_id  viable_game\n",
       "2         2         True\n",
       "3         3         True\n",
       "10        7         True\n",
       "13        9         True\n",
       "14       10         True"
      ]
     },
     "execution_count": 256,
     "metadata": {},
     "output_type": "execute_result"
    }
   ],
   "source": [
    "viable_games.head()"
   ]
  },
  {
   "cell_type": "markdown",
   "id": "625e981e-f8da-4128-95c8-82e159b58001",
   "metadata": {},
   "source": [
    "Get sum of filtered `game_id`:"
   ]
  },
  {
   "cell_type": "code",
   "execution_count": 257,
   "id": "17179508-21a4-4da7-9975-a64dc31fbf86",
   "metadata": {
    "tags": []
   },
   "outputs": [
    {
     "data": {
      "text/plain": [
       "2164"
      ]
     },
     "execution_count": 257,
     "metadata": {},
     "output_type": "execute_result"
    }
   ],
   "source": [
    "viable_games['game_id'].sum()"
   ]
  },
  {
   "cell_type": "markdown",
   "id": "2462a332-7019-4acc-a8d0-be6717979309",
   "metadata": {
    "tags": []
   },
   "source": [
    "### — Part 02"
   ]
  },
  {
   "cell_type": "markdown",
   "id": "a65ebd21-6396-4583-85d8-6781e96695d2",
   "metadata": {},
   "source": [
    "As you continue your walk, the Elf poses a second question: in each game you played, what is the fewest number of cubes of each color that could have been in the bag to make the game possible?"
   ]
  },
  {
   "cell_type": "markdown",
   "id": "6c2d18d4-e5a5-457e-a44a-b9e16c1ee7fa",
   "metadata": {},
   "source": [
    "Filter dataframe again by `game_id` using the maximum values recorded for each game:"
   ]
  },
  {
   "cell_type": "code",
   "execution_count": 258,
   "id": "de853a03-961f-48f7-897a-20fbd9875e63",
   "metadata": {
    "tags": []
   },
   "outputs": [],
   "source": [
    "all_viable_games = df.groupby(['game_id'])[['red_cubes', 'blue_cubes', 'green_cubes']].max().reset_index()"
   ]
  },
  {
   "cell_type": "code",
   "execution_count": 259,
   "id": "7667f788-e956-48ed-8aa8-ebbd1b77792e",
   "metadata": {
    "tags": []
   },
   "outputs": [
    {
     "data": {
      "text/html": [
       "<div>\n",
       "<style scoped>\n",
       "    .dataframe tbody tr th:only-of-type {\n",
       "        vertical-align: middle;\n",
       "    }\n",
       "\n",
       "    .dataframe tbody tr th {\n",
       "        vertical-align: top;\n",
       "    }\n",
       "\n",
       "    .dataframe thead th {\n",
       "        text-align: right;\n",
       "    }\n",
       "</style>\n",
       "<table border=\"1\" class=\"dataframe\">\n",
       "  <thead>\n",
       "    <tr style=\"text-align: right;\">\n",
       "      <th></th>\n",
       "      <th>game_id</th>\n",
       "      <th>red_cubes</th>\n",
       "      <th>blue_cubes</th>\n",
       "      <th>green_cubes</th>\n",
       "    </tr>\n",
       "  </thead>\n",
       "  <tbody>\n",
       "    <tr>\n",
       "      <th>0</th>\n",
       "      <td>1</td>\n",
       "      <td>1</td>\n",
       "      <td>15</td>\n",
       "      <td>14</td>\n",
       "    </tr>\n",
       "    <tr>\n",
       "      <th>1</th>\n",
       "      <td>2</td>\n",
       "      <td>8</td>\n",
       "      <td>10</td>\n",
       "      <td>3</td>\n",
       "    </tr>\n",
       "    <tr>\n",
       "      <th>2</th>\n",
       "      <td>3</td>\n",
       "      <td>1</td>\n",
       "      <td>10</td>\n",
       "      <td>11</td>\n",
       "    </tr>\n",
       "    <tr>\n",
       "      <th>3</th>\n",
       "      <td>4</td>\n",
       "      <td>14</td>\n",
       "      <td>15</td>\n",
       "      <td>12</td>\n",
       "    </tr>\n",
       "    <tr>\n",
       "      <th>4</th>\n",
       "      <td>5</td>\n",
       "      <td>16</td>\n",
       "      <td>15</td>\n",
       "      <td>14</td>\n",
       "    </tr>\n",
       "  </tbody>\n",
       "</table>\n",
       "</div>"
      ],
      "text/plain": [
       "   game_id  red_cubes  blue_cubes  green_cubes\n",
       "0        1          1          15           14\n",
       "1        2          8          10            3\n",
       "2        3          1          10           11\n",
       "3        4         14          15           12\n",
       "4        5         16          15           14"
      ]
     },
     "execution_count": 259,
     "metadata": {},
     "output_type": "execute_result"
    }
   ],
   "source": [
    "all_viable_games.head()"
   ]
  },
  {
   "cell_type": "markdown",
   "id": "cab3af23-dd92-4c6a-9e73-777526513e2e",
   "metadata": {},
   "source": [
    "Add new column `power` to `all_viable_games` dataframe:"
   ]
  },
  {
   "cell_type": "code",
   "execution_count": 260,
   "id": "5a399897-acc0-40b8-8f34-dccc6991b030",
   "metadata": {
    "tags": []
   },
   "outputs": [],
   "source": [
    "all_viable_games['power'] = all_viable_games['red_cubes'] * all_viable_games['blue_cubes'] * all_viable_games['green_cubes']"
   ]
  },
  {
   "cell_type": "code",
   "execution_count": 261,
   "id": "b3790521-b432-4a7b-a615-dd9c4b036429",
   "metadata": {
    "tags": []
   },
   "outputs": [
    {
     "data": {
      "text/html": [
       "<div>\n",
       "<style scoped>\n",
       "    .dataframe tbody tr th:only-of-type {\n",
       "        vertical-align: middle;\n",
       "    }\n",
       "\n",
       "    .dataframe tbody tr th {\n",
       "        vertical-align: top;\n",
       "    }\n",
       "\n",
       "    .dataframe thead th {\n",
       "        text-align: right;\n",
       "    }\n",
       "</style>\n",
       "<table border=\"1\" class=\"dataframe\">\n",
       "  <thead>\n",
       "    <tr style=\"text-align: right;\">\n",
       "      <th></th>\n",
       "      <th>game_id</th>\n",
       "      <th>red_cubes</th>\n",
       "      <th>blue_cubes</th>\n",
       "      <th>green_cubes</th>\n",
       "      <th>power</th>\n",
       "    </tr>\n",
       "  </thead>\n",
       "  <tbody>\n",
       "    <tr>\n",
       "      <th>0</th>\n",
       "      <td>1</td>\n",
       "      <td>1</td>\n",
       "      <td>15</td>\n",
       "      <td>14</td>\n",
       "      <td>210</td>\n",
       "    </tr>\n",
       "    <tr>\n",
       "      <th>1</th>\n",
       "      <td>2</td>\n",
       "      <td>8</td>\n",
       "      <td>10</td>\n",
       "      <td>3</td>\n",
       "      <td>240</td>\n",
       "    </tr>\n",
       "    <tr>\n",
       "      <th>2</th>\n",
       "      <td>3</td>\n",
       "      <td>1</td>\n",
       "      <td>10</td>\n",
       "      <td>11</td>\n",
       "      <td>110</td>\n",
       "    </tr>\n",
       "  </tbody>\n",
       "</table>\n",
       "</div>"
      ],
      "text/plain": [
       "   game_id  red_cubes  blue_cubes  green_cubes  power\n",
       "0        1          1          15           14    210\n",
       "1        2          8          10            3    240\n",
       "2        3          1          10           11    110"
      ]
     },
     "execution_count": 261,
     "metadata": {},
     "output_type": "execute_result"
    }
   ],
   "source": [
    "all_viable_games.head(3)"
   ]
  },
  {
   "cell_type": "markdown",
   "id": "aaa5c0b6-c7f5-41e4-a608-b1e30a0198e8",
   "metadata": {},
   "source": [
    "Get sum of all `power` values:"
   ]
  },
  {
   "cell_type": "code",
   "execution_count": 262,
   "id": "29c1d137-9f81-4868-95ea-870720b9e53b",
   "metadata": {
    "tags": []
   },
   "outputs": [
    {
     "data": {
      "text/plain": [
       "69929"
      ]
     },
     "execution_count": 262,
     "metadata": {},
     "output_type": "execute_result"
    }
   ],
   "source": [
    "all_viable_games['power'].sum()"
   ]
  }
 ],
 "metadata": {
  "kernelspec": {
   "display_name": "fullstack",
   "language": "python",
   "name": "fullstack"
  },
  "language_info": {
   "codemirror_mode": {
    "name": "ipython",
    "version": 3
   },
   "file_extension": ".py",
   "mimetype": "text/x-python",
   "name": "python",
   "nbconvert_exporter": "python",
   "pygments_lexer": "ipython3",
   "version": "3.11.5"
  }
 },
 "nbformat": 4,
 "nbformat_minor": 5
}
