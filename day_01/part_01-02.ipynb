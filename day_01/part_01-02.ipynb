{
 "cells": [
  {
   "cell_type": "markdown",
   "id": "ebacf3a5-07ce-45fc-aa30-0e135e7b567a",
   "metadata": {},
   "source": [
    "# Day 1 — Trebuchet?!"
   ]
  },
  {
   "cell_type": "markdown",
   "id": "b4a77ca4-b15f-49b4-b9aa-90604f9db4f9",
   "metadata": {},
   "source": [
    "- [Part 01](#—-Part-01)\n",
    "- [Part 02](#—-Psrt-02)"
   ]
  },
  {
   "cell_type": "code",
   "execution_count": 118,
   "id": "0f465455-05b2-4063-81b5-c702a0f105c2",
   "metadata": {
    "tags": []
   },
   "outputs": [],
   "source": [
    "import re\n",
    "import numpy as np\n",
    "import pandas as pd "
   ]
  },
  {
   "cell_type": "markdown",
   "id": "bfc39d8d-8105-401d-b2ad-dea00cd490fe",
   "metadata": {},
   "source": [
    "Parse calibration document:"
   ]
  },
  {
   "cell_type": "code",
   "execution_count": 119,
   "id": "9a0893b7-bdc6-4ac2-bf12-26338fd67309",
   "metadata": {
    "tags": []
   },
   "outputs": [],
   "source": [
    "data_dict = {'string': []}"
   ]
  },
  {
   "cell_type": "code",
   "execution_count": 120,
   "id": "cf600d30-dffd-419a-8b09-497a1af258f0",
   "metadata": {
    "tags": []
   },
   "outputs": [],
   "source": [
    "with open(file='day_01_input.txt') as file:\n",
    "    for text in file.read().split('\\n'):\n",
    "        # Append text to data dictionary\n",
    "        data_dict['string'].append(text)"
   ]
  },
  {
   "cell_type": "markdown",
   "id": "02d87646-4ac4-4737-8cf7-5958bce1a88f",
   "metadata": {},
   "source": [
    "Create a new dataframe:"
   ]
  },
  {
   "cell_type": "code",
   "execution_count": 121,
   "id": "a3355530-7ab6-4709-bc57-e05c5835a988",
   "metadata": {
    "tags": []
   },
   "outputs": [],
   "source": [
    "df = pd.DataFrame(data_dict)"
   ]
  },
  {
   "cell_type": "code",
   "execution_count": 122,
   "id": "83b870f2-6069-4215-b86f-4b4805d181f5",
   "metadata": {
    "tags": []
   },
   "outputs": [
    {
     "data": {
      "text/html": [
       "<div>\n",
       "<style scoped>\n",
       "    .dataframe tbody tr th:only-of-type {\n",
       "        vertical-align: middle;\n",
       "    }\n",
       "\n",
       "    .dataframe tbody tr th {\n",
       "        vertical-align: top;\n",
       "    }\n",
       "\n",
       "    .dataframe thead th {\n",
       "        text-align: right;\n",
       "    }\n",
       "</style>\n",
       "<table border=\"1\" class=\"dataframe\">\n",
       "  <thead>\n",
       "    <tr style=\"text-align: right;\">\n",
       "      <th></th>\n",
       "      <th>string</th>\n",
       "    </tr>\n",
       "  </thead>\n",
       "  <tbody>\n",
       "    <tr>\n",
       "      <th>0</th>\n",
       "      <td>tsgbzmgbonethreedrqzbhxjkvcnm3</td>\n",
       "    </tr>\n",
       "    <tr>\n",
       "      <th>1</th>\n",
       "      <td>7qlpsnhbmnconeeight78</td>\n",
       "    </tr>\n",
       "    <tr>\n",
       "      <th>2</th>\n",
       "      <td>prbqsfzqn57</td>\n",
       "    </tr>\n",
       "    <tr>\n",
       "      <th>3</th>\n",
       "      <td>ctrv3hmvjphrffktwothree</td>\n",
       "    </tr>\n",
       "    <tr>\n",
       "      <th>4</th>\n",
       "      <td>9six9qbgcvljfvccdjslspprgonenine</td>\n",
       "    </tr>\n",
       "  </tbody>\n",
       "</table>\n",
       "</div>"
      ],
      "text/plain": [
       "                             string\n",
       "0    tsgbzmgbonethreedrqzbhxjkvcnm3\n",
       "1             7qlpsnhbmnconeeight78\n",
       "2                       prbqsfzqn57\n",
       "3           ctrv3hmvjphrffktwothree\n",
       "4  9six9qbgcvljfvccdjslspprgonenine"
      ]
     },
     "execution_count": 122,
     "metadata": {},
     "output_type": "execute_result"
    }
   ],
   "source": [
    "df.head()"
   ]
  },
  {
   "cell_type": "markdown",
   "id": "37c3c365-07b7-478e-80ae-b32e4b3cc102",
   "metadata": {},
   "source": [
    "### — Part 01"
   ]
  },
  {
   "cell_type": "markdown",
   "id": "277cdbc7-1fb3-4051-9ac0-dba9dca5a45d",
   "metadata": {},
   "source": [
    "On each line, the calibration value can be found by combining the first digit and the last digit (in that order) to form a single two-digit number. What is the sum of all of the calibration values?"
   ]
  },
  {
   "cell_type": "code",
   "execution_count": 123,
   "id": "5ce12f6a-e1a3-4fa3-aee8-71b3f2cbb64a",
   "metadata": {
    "tags": []
   },
   "outputs": [],
   "source": [
    "def find_value(x):\n",
    "    \"\"\"\n",
    "    Extract all digits from string in order of occurrence, return first and last digit.\n",
    "    \"\"\"\n",
    "    numeric_vals = \"\".join(re.findall(r'[0-9]+', x))\n",
    "    return numeric_vals[0] + numeric_vals[-1]"
   ]
  },
  {
   "cell_type": "markdown",
   "id": "9cace2c4-be43-42e8-875f-59e6d1e76b1f",
   "metadata": {},
   "source": [
    "Add new column `calibration_val` to dataframe:"
   ]
  },
  {
   "cell_type": "code",
   "execution_count": 124,
   "id": "67449e86-bb52-4073-b631-54a56f87424d",
   "metadata": {
    "tags": []
   },
   "outputs": [],
   "source": [
    "df['calibration_val'] = df['string'].apply(lambda x: find_value(x)).astype(int)"
   ]
  },
  {
   "cell_type": "code",
   "execution_count": 125,
   "id": "bb9bb37f-41bd-4bb8-bf33-94c2f2b3d08a",
   "metadata": {
    "tags": []
   },
   "outputs": [
    {
     "data": {
      "text/html": [
       "<div>\n",
       "<style scoped>\n",
       "    .dataframe tbody tr th:only-of-type {\n",
       "        vertical-align: middle;\n",
       "    }\n",
       "\n",
       "    .dataframe tbody tr th {\n",
       "        vertical-align: top;\n",
       "    }\n",
       "\n",
       "    .dataframe thead th {\n",
       "        text-align: right;\n",
       "    }\n",
       "</style>\n",
       "<table border=\"1\" class=\"dataframe\">\n",
       "  <thead>\n",
       "    <tr style=\"text-align: right;\">\n",
       "      <th></th>\n",
       "      <th>string</th>\n",
       "      <th>calibration_val</th>\n",
       "    </tr>\n",
       "  </thead>\n",
       "  <tbody>\n",
       "    <tr>\n",
       "      <th>0</th>\n",
       "      <td>tsgbzmgbonethreedrqzbhxjkvcnm3</td>\n",
       "      <td>33</td>\n",
       "    </tr>\n",
       "    <tr>\n",
       "      <th>1</th>\n",
       "      <td>7qlpsnhbmnconeeight78</td>\n",
       "      <td>78</td>\n",
       "    </tr>\n",
       "    <tr>\n",
       "      <th>2</th>\n",
       "      <td>prbqsfzqn57</td>\n",
       "      <td>57</td>\n",
       "    </tr>\n",
       "    <tr>\n",
       "      <th>3</th>\n",
       "      <td>ctrv3hmvjphrffktwothree</td>\n",
       "      <td>33</td>\n",
       "    </tr>\n",
       "    <tr>\n",
       "      <th>4</th>\n",
       "      <td>9six9qbgcvljfvccdjslspprgonenine</td>\n",
       "      <td>99</td>\n",
       "    </tr>\n",
       "  </tbody>\n",
       "</table>\n",
       "</div>"
      ],
      "text/plain": [
       "                             string  calibration_val\n",
       "0    tsgbzmgbonethreedrqzbhxjkvcnm3               33\n",
       "1             7qlpsnhbmnconeeight78               78\n",
       "2                       prbqsfzqn57               57\n",
       "3           ctrv3hmvjphrffktwothree               33\n",
       "4  9six9qbgcvljfvccdjslspprgonenine               99"
      ]
     },
     "execution_count": 125,
     "metadata": {},
     "output_type": "execute_result"
    }
   ],
   "source": [
    "df.head()"
   ]
  },
  {
   "cell_type": "markdown",
   "id": "29d67f17-4f59-4177-b908-b7acfad61fec",
   "metadata": {},
   "source": [
    "Get sum of `calibration_val`:"
   ]
  },
  {
   "cell_type": "code",
   "execution_count": 126,
   "id": "2bdf7e5b-80b7-4399-b3d5-aff11b778d52",
   "metadata": {
    "tags": []
   },
   "outputs": [
    {
     "data": {
      "text/plain": [
       "55002"
      ]
     },
     "execution_count": 126,
     "metadata": {},
     "output_type": "execute_result"
    }
   ],
   "source": [
    "df['calibration_val'].sum()"
   ]
  },
  {
   "cell_type": "markdown",
   "id": "fed33a82-08a9-4201-a4e4-d3eb686955b0",
   "metadata": {},
   "source": [
    "### — Part 02"
   ]
  },
  {
   "cell_type": "markdown",
   "id": "938b743e-2902-466c-a900-9c0090f70702",
   "metadata": {},
   "source": [
    "It looks like some of the digits are actually spelled out with letters: one, two, three, four, five, six, seven, eight, and nine also count as valid \"digits\". Equipped with this new information, you now need to find the real first and last digit on each line."
   ]
  },
  {
   "cell_type": "code",
   "execution_count": 127,
   "id": "ebc72ca4-8ecc-4ff8-ab49-285e1766c38d",
   "metadata": {
    "tags": []
   },
   "outputs": [],
   "source": [
    "def detect_numeric_text(x):\n",
    "    \"\"\"\n",
    "    Converts or extracts all numeric text / digits from string in order of occurrence, return first and last digit.\n",
    "    \"\"\"\n",
    "    number_map = {'one': '1', 'two': '2', 'three': '3', 'four': '4', 'five': '5', 'six': '6', 'seven':'7', 'eight': '8', 'nine': '9'}\n",
    "    \n",
    "    # Store starting index of each string / digit\n",
    "    index_pos = {}\n",
    "    \n",
    "    # Find digits in string\n",
    "    for index, char in enumerate(x):\n",
    "        if char.isnumeric():\n",
    "            index_pos[index] = char\n",
    "            \n",
    "    # Find numeric text in string:\n",
    "    # Use sliding window to determine if the text within window is also in number_map, aka a valid number\n",
    "    # Since all valid numeric words have a length between 3-5, I'll iterate through the input three times increasing the window length from 3 up to 5\n",
    "    \n",
    "    window = 3  # Starting size of window\n",
    "    while window <= 5:\n",
    "        start = 0  # Starting index of window\n",
    "        temp_string = \"\"  # Temp variable to store characters in current window\n",
    "        \n",
    "        # SLIDING WINDOW ---\n",
    "        for end, char in enumerate(x):\n",
    "            # Add current char to temp variable\n",
    "            temp_string += char\n",
    "            if end - start + 1 == window:\n",
    "                # Check if temp string in number_map, if so, add starting index of current window index_pos with temp string as its value\n",
    "                if temp_string in number_map:\n",
    "                    index_pos[start] = number_map[temp_string]\n",
    "                # Remove first character from temp string\n",
    "                temp_string = temp_string[1:]\n",
    "                # Increment starting index by 1\n",
    "                start += 1\n",
    "        \n",
    "        # Increase window size\n",
    "        window += 1\n",
    "                \n",
    "    # Get first and last numeric value in 'x' by grabbing min / max index keys stored in index_pos\n",
    "    first_digit, last_digit = index_pos[min(index_pos.keys())], index_pos[max(index_pos.keys())]\n",
    "    return first_digit + last_digit       "
   ]
  },
  {
   "cell_type": "markdown",
   "id": "4c23c532-dd1e-4efd-a54b-b617811c31aa",
   "metadata": {},
   "source": [
    "Add new column `real_calibration_val` to dataframe:"
   ]
  },
  {
   "cell_type": "code",
   "execution_count": 128,
   "id": "e4f22a00-f477-4258-ba7b-88e349eb365e",
   "metadata": {
    "tags": []
   },
   "outputs": [],
   "source": [
    "df['real_calibration_val'] = df['string'].apply(lambda x: detect_numeric_text(x)).astype(int)"
   ]
  },
  {
   "cell_type": "code",
   "execution_count": 129,
   "id": "27acf9aa-55a3-4743-9dc4-c391a7426057",
   "metadata": {
    "tags": []
   },
   "outputs": [
    {
     "data": {
      "text/html": [
       "<div>\n",
       "<style scoped>\n",
       "    .dataframe tbody tr th:only-of-type {\n",
       "        vertical-align: middle;\n",
       "    }\n",
       "\n",
       "    .dataframe tbody tr th {\n",
       "        vertical-align: top;\n",
       "    }\n",
       "\n",
       "    .dataframe thead th {\n",
       "        text-align: right;\n",
       "    }\n",
       "</style>\n",
       "<table border=\"1\" class=\"dataframe\">\n",
       "  <thead>\n",
       "    <tr style=\"text-align: right;\">\n",
       "      <th></th>\n",
       "      <th>string</th>\n",
       "      <th>calibration_val</th>\n",
       "      <th>real_calibration_val</th>\n",
       "    </tr>\n",
       "  </thead>\n",
       "  <tbody>\n",
       "    <tr>\n",
       "      <th>0</th>\n",
       "      <td>tsgbzmgbonethreedrqzbhxjkvcnm3</td>\n",
       "      <td>33</td>\n",
       "      <td>13</td>\n",
       "    </tr>\n",
       "    <tr>\n",
       "      <th>1</th>\n",
       "      <td>7qlpsnhbmnconeeight78</td>\n",
       "      <td>78</td>\n",
       "      <td>78</td>\n",
       "    </tr>\n",
       "    <tr>\n",
       "      <th>2</th>\n",
       "      <td>prbqsfzqn57</td>\n",
       "      <td>57</td>\n",
       "      <td>57</td>\n",
       "    </tr>\n",
       "    <tr>\n",
       "      <th>3</th>\n",
       "      <td>ctrv3hmvjphrffktwothree</td>\n",
       "      <td>33</td>\n",
       "      <td>33</td>\n",
       "    </tr>\n",
       "    <tr>\n",
       "      <th>4</th>\n",
       "      <td>9six9qbgcvljfvccdjslspprgonenine</td>\n",
       "      <td>99</td>\n",
       "      <td>99</td>\n",
       "    </tr>\n",
       "  </tbody>\n",
       "</table>\n",
       "</div>"
      ],
      "text/plain": [
       "                             string  calibration_val  real_calibration_val\n",
       "0    tsgbzmgbonethreedrqzbhxjkvcnm3               33                    13\n",
       "1             7qlpsnhbmnconeeight78               78                    78\n",
       "2                       prbqsfzqn57               57                    57\n",
       "3           ctrv3hmvjphrffktwothree               33                    33\n",
       "4  9six9qbgcvljfvccdjslspprgonenine               99                    99"
      ]
     },
     "execution_count": 129,
     "metadata": {},
     "output_type": "execute_result"
    }
   ],
   "source": [
    "df.head()"
   ]
  },
  {
   "cell_type": "markdown",
   "id": "a0c8097e-0db7-4492-be39-ca510a56c674",
   "metadata": {},
   "source": [
    "Get sum of `real_calibration_val`:"
   ]
  },
  {
   "cell_type": "code",
   "execution_count": 130,
   "id": "d12b8905-b4d0-416b-973f-fd585709ba6d",
   "metadata": {
    "tags": []
   },
   "outputs": [
    {
     "data": {
      "text/plain": [
       "55093"
      ]
     },
     "execution_count": 130,
     "metadata": {},
     "output_type": "execute_result"
    }
   ],
   "source": [
    "df['real_calibration_val'].sum()"
   ]
  }
 ],
 "metadata": {
  "kernelspec": {
   "display_name": "fullstack",
   "language": "python",
   "name": "fullstack"
  },
  "language_info": {
   "codemirror_mode": {
    "name": "ipython",
    "version": 3
   },
   "file_extension": ".py",
   "mimetype": "text/x-python",
   "name": "python",
   "nbconvert_exporter": "python",
   "pygments_lexer": "ipython3",
   "version": "3.11.5"
  }
 },
 "nbformat": 4,
 "nbformat_minor": 5
}
