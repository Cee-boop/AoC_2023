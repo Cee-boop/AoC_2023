{
 "cells": [
  {
   "cell_type": "markdown",
   "id": "360991e7-612a-4111-9fc0-419ee2b08d15",
   "metadata": {},
   "source": [
    "# Day 04 — Scratchcards"
   ]
  },
  {
   "cell_type": "code",
   "execution_count": 293,
   "id": "567cf54a-c8bc-40b2-b2d4-3ef0d0b65a86",
   "metadata": {
    "tags": []
   },
   "outputs": [],
   "source": [
    "import re\n",
    "import numpy as np\n",
    "import pandas as pd"
   ]
  },
  {
   "cell_type": "markdown",
   "id": "f49579cd-f115-4bbe-9cc4-b5f59dc36653",
   "metadata": {},
   "source": [
    "Parse and format input:"
   ]
  },
  {
   "cell_type": "code",
   "execution_count": 294,
   "id": "11558f15-8cdb-44d1-a8f5-6fcf77edb816",
   "metadata": {
    "tags": []
   },
   "outputs": [],
   "source": [
    "data_dict = {'card': [], 'winning_numbers': [], 'my_numbers': []}"
   ]
  },
  {
   "cell_type": "code",
   "execution_count": 295,
   "id": "6fc5245d-3bdb-4221-89e4-8ea766376822",
   "metadata": {
    "tags": []
   },
   "outputs": [],
   "source": [
    "with open(file='day_04_input.txt') as file:\n",
    "    for index, line in enumerate(file.read().split('\\n')):\n",
    "        win_nums, my_nums = \" \".join(line.replace('   ', ' ').replace('  ', ' ').split(f\"Card {index + 1}: \")).strip().split(\" | \")\n",
    "        # Remove double spaces from string\n",
    "        win_nums, my_nums = list(map(int, win_nums.replace('  ', ' ').split(' '))), list(map(int, my_nums.replace('  ', ' ').split(' ')))\n",
    "        \n",
    "        # Store values in data dictionary\n",
    "        data_dict['card'].append(index + 1)\n",
    "        data_dict['winning_numbers'].append(win_nums)\n",
    "        data_dict['my_numbers'].append(my_nums)"
   ]
  },
  {
   "cell_type": "markdown",
   "id": "f3d702bb-0eda-4fa4-9d06-748049384fc6",
   "metadata": {},
   "source": [
    "Create new dataframe:"
   ]
  },
  {
   "cell_type": "code",
   "execution_count": 296,
   "id": "08a0ee57-65a2-4f71-84ae-84b7b59f3636",
   "metadata": {
    "tags": []
   },
   "outputs": [],
   "source": [
    "df = pd.DataFrame(data_dict)"
   ]
  },
  {
   "cell_type": "code",
   "execution_count": 297,
   "id": "fd6c4c2d-0362-4bd8-bff1-6096434eab2e",
   "metadata": {
    "tags": []
   },
   "outputs": [
    {
     "data": {
      "text/html": [
       "<div>\n",
       "<style scoped>\n",
       "    .dataframe tbody tr th:only-of-type {\n",
       "        vertical-align: middle;\n",
       "    }\n",
       "\n",
       "    .dataframe tbody tr th {\n",
       "        vertical-align: top;\n",
       "    }\n",
       "\n",
       "    .dataframe thead th {\n",
       "        text-align: right;\n",
       "    }\n",
       "</style>\n",
       "<table border=\"1\" class=\"dataframe\">\n",
       "  <thead>\n",
       "    <tr style=\"text-align: right;\">\n",
       "      <th></th>\n",
       "      <th>card</th>\n",
       "      <th>winning_numbers</th>\n",
       "      <th>my_numbers</th>\n",
       "    </tr>\n",
       "  </thead>\n",
       "  <tbody>\n",
       "    <tr>\n",
       "      <th>0</th>\n",
       "      <td>1</td>\n",
       "      <td>[84, 17, 45, 77, 11, 66, 94, 28, 71, 70]</td>\n",
       "      <td>[45, 51, 86, 83, 53, 58, 64, 30, 67, 96, 41, 8...</td>\n",
       "    </tr>\n",
       "    <tr>\n",
       "      <th>1</th>\n",
       "      <td>2</td>\n",
       "      <td>[18, 17, 59, 8, 78, 79, 34, 35, 48, 73]</td>\n",
       "      <td>[61, 49, 59, 99, 77, 8, 79, 64, 36, 6, 3, 67, ...</td>\n",
       "    </tr>\n",
       "    <tr>\n",
       "      <th>2</th>\n",
       "      <td>3</td>\n",
       "      <td>[60, 78, 77, 44, 62, 54, 94, 50, 32, 11]</td>\n",
       "      <td>[2, 6, 89, 50, 11, 60, 57, 53, 71, 44, 47, 62,...</td>\n",
       "    </tr>\n",
       "    <tr>\n",
       "      <th>3</th>\n",
       "      <td>4</td>\n",
       "      <td>[74, 19, 54, 9, 79, 24, 21, 88, 53, 7]</td>\n",
       "      <td>[21, 30, 53, 62, 74, 79, 54, 19, 45, 67, 7, 80...</td>\n",
       "    </tr>\n",
       "    <tr>\n",
       "      <th>4</th>\n",
       "      <td>5</td>\n",
       "      <td>[68, 18, 23, 55, 9, 60, 82, 27, 76, 16]</td>\n",
       "      <td>[55, 26, 12, 23, 74, 7, 58, 29, 45, 86, 5, 6, ...</td>\n",
       "    </tr>\n",
       "  </tbody>\n",
       "</table>\n",
       "</div>"
      ],
      "text/plain": [
       "   card                           winning_numbers  \\\n",
       "0     1  [84, 17, 45, 77, 11, 66, 94, 28, 71, 70]   \n",
       "1     2   [18, 17, 59, 8, 78, 79, 34, 35, 48, 73]   \n",
       "2     3  [60, 78, 77, 44, 62, 54, 94, 50, 32, 11]   \n",
       "3     4    [74, 19, 54, 9, 79, 24, 21, 88, 53, 7]   \n",
       "4     5   [68, 18, 23, 55, 9, 60, 82, 27, 76, 16]   \n",
       "\n",
       "                                          my_numbers  \n",
       "0  [45, 51, 86, 83, 53, 58, 64, 30, 67, 96, 41, 8...  \n",
       "1  [61, 49, 59, 99, 77, 8, 79, 64, 36, 6, 3, 67, ...  \n",
       "2  [2, 6, 89, 50, 11, 60, 57, 53, 71, 44, 47, 62,...  \n",
       "3  [21, 30, 53, 62, 74, 79, 54, 19, 45, 67, 7, 80...  \n",
       "4  [55, 26, 12, 23, 74, 7, 58, 29, 45, 86, 5, 6, ...  "
      ]
     },
     "execution_count": 297,
     "metadata": {},
     "output_type": "execute_result"
    }
   ],
   "source": [
    "df.head()"
   ]
  },
  {
   "cell_type": "markdown",
   "id": "68f9b1ae-abfb-4265-996f-e1316d484dfe",
   "metadata": {},
   "source": [
    "### — Part 01"
   ]
  },
  {
   "cell_type": "markdown",
   "id": "ae29b194-999b-49ff-8587-940a80e03aaf",
   "metadata": {},
   "source": [
    "As far as the Elf has been able to figure out, you have to figure out which of the numbers you have appear in the list of winning numbers. The first match makes the card worth one point and each match after the first doubles the point value of that card."
   ]
  },
  {
   "cell_type": "code",
   "execution_count": 298,
   "id": "e94372e1-beb9-4056-9c0b-4cb9c8a2286d",
   "metadata": {
    "tags": []
   },
   "outputs": [],
   "source": [
    "def find_winning_numbers(lst_01: int, lst_02: int) -> int:\n",
    "    \"\"\"\n",
    "    Finds matching numbers in each list, then calculates points.\n",
    "    \"\"\"\n",
    "    points = 0\n",
    "    matching_numbers = [x for x in lst_02 if x in lst_01]\n",
    "    \n",
    "    for i in range(len(matching_numbers)):\n",
    "        if i == 0:\n",
    "            points += 1\n",
    "        else:\n",
    "            points *= 2\n",
    "    \n",
    "    # Returns number of scatchcards received for Part 02 \n",
    "    return len(matching_numbers), points"
   ]
  },
  {
   "cell_type": "markdown",
   "id": "c2b198ce-7579-40c1-b0e5-5f4524c5a421",
   "metadata": {},
   "source": [
    "Add new column `points` to dataframe:"
   ]
  },
  {
   "cell_type": "code",
   "execution_count": 299,
   "id": "b434dc07-57b2-4393-bd23-34a309f4d172",
   "metadata": {
    "tags": []
   },
   "outputs": [],
   "source": [
    "df['points'] = df.apply(lambda x: find_winning_numbers(x['winning_numbers'], x['my_numbers'])[1], axis=1)"
   ]
  },
  {
   "cell_type": "code",
   "execution_count": 300,
   "id": "5fc17b55-81b3-4811-a667-ba351dc70097",
   "metadata": {
    "tags": []
   },
   "outputs": [
    {
     "data": {
      "text/html": [
       "<div>\n",
       "<style scoped>\n",
       "    .dataframe tbody tr th:only-of-type {\n",
       "        vertical-align: middle;\n",
       "    }\n",
       "\n",
       "    .dataframe tbody tr th {\n",
       "        vertical-align: top;\n",
       "    }\n",
       "\n",
       "    .dataframe thead th {\n",
       "        text-align: right;\n",
       "    }\n",
       "</style>\n",
       "<table border=\"1\" class=\"dataframe\">\n",
       "  <thead>\n",
       "    <tr style=\"text-align: right;\">\n",
       "      <th></th>\n",
       "      <th>card</th>\n",
       "      <th>winning_numbers</th>\n",
       "      <th>my_numbers</th>\n",
       "      <th>points</th>\n",
       "    </tr>\n",
       "  </thead>\n",
       "  <tbody>\n",
       "    <tr>\n",
       "      <th>0</th>\n",
       "      <td>1</td>\n",
       "      <td>[84, 17, 45, 77, 11, 66, 94, 28, 71, 70]</td>\n",
       "      <td>[45, 51, 86, 83, 53, 58, 64, 30, 67, 96, 41, 8...</td>\n",
       "      <td>8</td>\n",
       "    </tr>\n",
       "    <tr>\n",
       "      <th>1</th>\n",
       "      <td>2</td>\n",
       "      <td>[18, 17, 59, 8, 78, 79, 34, 35, 48, 73]</td>\n",
       "      <td>[61, 49, 59, 99, 77, 8, 79, 64, 36, 6, 3, 67, ...</td>\n",
       "      <td>16</td>\n",
       "    </tr>\n",
       "    <tr>\n",
       "      <th>2</th>\n",
       "      <td>3</td>\n",
       "      <td>[60, 78, 77, 44, 62, 54, 94, 50, 32, 11]</td>\n",
       "      <td>[2, 6, 89, 50, 11, 60, 57, 53, 71, 44, 47, 62,...</td>\n",
       "      <td>512</td>\n",
       "    </tr>\n",
       "    <tr>\n",
       "      <th>3</th>\n",
       "      <td>4</td>\n",
       "      <td>[74, 19, 54, 9, 79, 24, 21, 88, 53, 7]</td>\n",
       "      <td>[21, 30, 53, 62, 74, 79, 54, 19, 45, 67, 7, 80...</td>\n",
       "      <td>512</td>\n",
       "    </tr>\n",
       "    <tr>\n",
       "      <th>4</th>\n",
       "      <td>5</td>\n",
       "      <td>[68, 18, 23, 55, 9, 60, 82, 27, 76, 16]</td>\n",
       "      <td>[55, 26, 12, 23, 74, 7, 58, 29, 45, 86, 5, 6, ...</td>\n",
       "      <td>8</td>\n",
       "    </tr>\n",
       "  </tbody>\n",
       "</table>\n",
       "</div>"
      ],
      "text/plain": [
       "   card                           winning_numbers  \\\n",
       "0     1  [84, 17, 45, 77, 11, 66, 94, 28, 71, 70]   \n",
       "1     2   [18, 17, 59, 8, 78, 79, 34, 35, 48, 73]   \n",
       "2     3  [60, 78, 77, 44, 62, 54, 94, 50, 32, 11]   \n",
       "3     4    [74, 19, 54, 9, 79, 24, 21, 88, 53, 7]   \n",
       "4     5   [68, 18, 23, 55, 9, 60, 82, 27, 76, 16]   \n",
       "\n",
       "                                          my_numbers  points  \n",
       "0  [45, 51, 86, 83, 53, 58, 64, 30, 67, 96, 41, 8...       8  \n",
       "1  [61, 49, 59, 99, 77, 8, 79, 64, 36, 6, 3, 67, ...      16  \n",
       "2  [2, 6, 89, 50, 11, 60, 57, 53, 71, 44, 47, 62,...     512  \n",
       "3  [21, 30, 53, 62, 74, 79, 54, 19, 45, 67, 7, 80...     512  \n",
       "4  [55, 26, 12, 23, 74, 7, 58, 29, 45, 86, 5, 6, ...       8  "
      ]
     },
     "execution_count": 300,
     "metadata": {},
     "output_type": "execute_result"
    }
   ],
   "source": [
    "df.head()"
   ]
  },
  {
   "cell_type": "markdown",
   "id": "1ef51d15-a190-4d6f-8e78-4dda56266e00",
   "metadata": {},
   "source": [
    "Get sum of `points`:"
   ]
  },
  {
   "cell_type": "code",
   "execution_count": 301,
   "id": "132ed438-1701-47c1-a72a-3d58aa064c46",
   "metadata": {
    "tags": []
   },
   "outputs": [
    {
     "data": {
      "text/plain": [
       "23941"
      ]
     },
     "execution_count": 301,
     "metadata": {},
     "output_type": "execute_result"
    }
   ],
   "source": [
    "df['points'].sum()"
   ]
  },
  {
   "cell_type": "markdown",
   "id": "14432532-350f-4527-a60a-47c4f9828161",
   "metadata": {
    "tags": []
   },
   "source": [
    "### — Part 02"
   ]
  },
  {
   "cell_type": "markdown",
   "id": "ea2efb05-20cc-45d8-8026-06c27fd561c6",
   "metadata": {},
   "source": [
    "Add new `copies` column to dataframe:"
   ]
  },
  {
   "cell_type": "code",
   "execution_count": 305,
   "id": "5233aa75-ba7f-44cf-ae9e-0482a5271ae0",
   "metadata": {
    "tags": []
   },
   "outputs": [],
   "source": [
    "df['copies'] = 1"
   ]
  },
  {
   "cell_type": "code",
   "execution_count": 306,
   "id": "42c0222f-ab20-4161-9703-d2511a188458",
   "metadata": {
    "tags": []
   },
   "outputs": [
    {
     "data": {
      "text/html": [
       "<div>\n",
       "<style scoped>\n",
       "    .dataframe tbody tr th:only-of-type {\n",
       "        vertical-align: middle;\n",
       "    }\n",
       "\n",
       "    .dataframe tbody tr th {\n",
       "        vertical-align: top;\n",
       "    }\n",
       "\n",
       "    .dataframe thead th {\n",
       "        text-align: right;\n",
       "    }\n",
       "</style>\n",
       "<table border=\"1\" class=\"dataframe\">\n",
       "  <thead>\n",
       "    <tr style=\"text-align: right;\">\n",
       "      <th></th>\n",
       "      <th>card</th>\n",
       "      <th>winning_numbers</th>\n",
       "      <th>my_numbers</th>\n",
       "      <th>points</th>\n",
       "      <th>copies</th>\n",
       "    </tr>\n",
       "  </thead>\n",
       "  <tbody>\n",
       "    <tr>\n",
       "      <th>0</th>\n",
       "      <td>1</td>\n",
       "      <td>[84, 17, 45, 77, 11, 66, 94, 28, 71, 70]</td>\n",
       "      <td>[45, 51, 86, 83, 53, 58, 64, 30, 67, 96, 41, 8...</td>\n",
       "      <td>8</td>\n",
       "      <td>1</td>\n",
       "    </tr>\n",
       "    <tr>\n",
       "      <th>1</th>\n",
       "      <td>2</td>\n",
       "      <td>[18, 17, 59, 8, 78, 79, 34, 35, 48, 73]</td>\n",
       "      <td>[61, 49, 59, 99, 77, 8, 79, 64, 36, 6, 3, 67, ...</td>\n",
       "      <td>16</td>\n",
       "      <td>1</td>\n",
       "    </tr>\n",
       "    <tr>\n",
       "      <th>2</th>\n",
       "      <td>3</td>\n",
       "      <td>[60, 78, 77, 44, 62, 54, 94, 50, 32, 11]</td>\n",
       "      <td>[2, 6, 89, 50, 11, 60, 57, 53, 71, 44, 47, 62,...</td>\n",
       "      <td>512</td>\n",
       "      <td>1</td>\n",
       "    </tr>\n",
       "    <tr>\n",
       "      <th>3</th>\n",
       "      <td>4</td>\n",
       "      <td>[74, 19, 54, 9, 79, 24, 21, 88, 53, 7]</td>\n",
       "      <td>[21, 30, 53, 62, 74, 79, 54, 19, 45, 67, 7, 80...</td>\n",
       "      <td>512</td>\n",
       "      <td>1</td>\n",
       "    </tr>\n",
       "    <tr>\n",
       "      <th>4</th>\n",
       "      <td>5</td>\n",
       "      <td>[68, 18, 23, 55, 9, 60, 82, 27, 76, 16]</td>\n",
       "      <td>[55, 26, 12, 23, 74, 7, 58, 29, 45, 86, 5, 6, ...</td>\n",
       "      <td>8</td>\n",
       "      <td>1</td>\n",
       "    </tr>\n",
       "  </tbody>\n",
       "</table>\n",
       "</div>"
      ],
      "text/plain": [
       "   card                           winning_numbers  \\\n",
       "0     1  [84, 17, 45, 77, 11, 66, 94, 28, 71, 70]   \n",
       "1     2   [18, 17, 59, 8, 78, 79, 34, 35, 48, 73]   \n",
       "2     3  [60, 78, 77, 44, 62, 54, 94, 50, 32, 11]   \n",
       "3     4    [74, 19, 54, 9, 79, 24, 21, 88, 53, 7]   \n",
       "4     5   [68, 18, 23, 55, 9, 60, 82, 27, 76, 16]   \n",
       "\n",
       "                                          my_numbers  points  copies  \n",
       "0  [45, 51, 86, 83, 53, 58, 64, 30, 67, 96, 41, 8...       8       1  \n",
       "1  [61, 49, 59, 99, 77, 8, 79, 64, 36, 6, 3, 67, ...      16       1  \n",
       "2  [2, 6, 89, 50, 11, 60, 57, 53, 71, 44, 47, 62,...     512       1  \n",
       "3  [21, 30, 53, 62, 74, 79, 54, 19, 45, 67, 7, 80...     512       1  \n",
       "4  [55, 26, 12, 23, 74, 7, 58, 29, 45, 86, 5, 6, ...       8       1  "
      ]
     },
     "execution_count": 306,
     "metadata": {},
     "output_type": "execute_result"
    }
   ],
   "source": [
    "df.head()"
   ]
  },
  {
   "cell_type": "markdown",
   "id": "f4990e6b-aea5-4e17-9998-144260046560",
   "metadata": {},
   "source": [
    "Process copies:"
   ]
  },
  {
   "cell_type": "code",
   "execution_count": 307,
   "id": "4462efb6-60a3-4fad-a2b1-c257cce2a91b",
   "metadata": {
    "tags": []
   },
   "outputs": [],
   "source": [
    "for i, row in df.iterrows():\n",
    "    # Iterate through all copies of current card\n",
    "    copies = find_winning_numbers(row['winning_numbers'], row['my_numbers'])[0]\n",
    "    # Replace 'copies' value of current row\n",
    "    for _ in range(df.loc[i, 'copies']):\n",
    "        for j, row_ in df[i+1: (i+1) + copies].iterrows():\n",
    "            df.loc[j, 'copies'] += 1"
   ]
  },
  {
   "cell_type": "code",
   "execution_count": 308,
   "id": "2ede1f6d-745d-4f5b-8d44-faea3853cf63",
   "metadata": {
    "tags": []
   },
   "outputs": [
    {
     "data": {
      "text/html": [
       "<div>\n",
       "<style scoped>\n",
       "    .dataframe tbody tr th:only-of-type {\n",
       "        vertical-align: middle;\n",
       "    }\n",
       "\n",
       "    .dataframe tbody tr th {\n",
       "        vertical-align: top;\n",
       "    }\n",
       "\n",
       "    .dataframe thead th {\n",
       "        text-align: right;\n",
       "    }\n",
       "</style>\n",
       "<table border=\"1\" class=\"dataframe\">\n",
       "  <thead>\n",
       "    <tr style=\"text-align: right;\">\n",
       "      <th></th>\n",
       "      <th>card</th>\n",
       "      <th>winning_numbers</th>\n",
       "      <th>my_numbers</th>\n",
       "      <th>points</th>\n",
       "      <th>copies</th>\n",
       "    </tr>\n",
       "  </thead>\n",
       "  <tbody>\n",
       "    <tr>\n",
       "      <th>0</th>\n",
       "      <td>1</td>\n",
       "      <td>[84, 17, 45, 77, 11, 66, 94, 28, 71, 70]</td>\n",
       "      <td>[45, 51, 86, 83, 53, 58, 64, 30, 67, 96, 41, 8...</td>\n",
       "      <td>8</td>\n",
       "      <td>1</td>\n",
       "    </tr>\n",
       "    <tr>\n",
       "      <th>1</th>\n",
       "      <td>2</td>\n",
       "      <td>[18, 17, 59, 8, 78, 79, 34, 35, 48, 73]</td>\n",
       "      <td>[61, 49, 59, 99, 77, 8, 79, 64, 36, 6, 3, 67, ...</td>\n",
       "      <td>16</td>\n",
       "      <td>2</td>\n",
       "    </tr>\n",
       "    <tr>\n",
       "      <th>2</th>\n",
       "      <td>3</td>\n",
       "      <td>[60, 78, 77, 44, 62, 54, 94, 50, 32, 11]</td>\n",
       "      <td>[2, 6, 89, 50, 11, 60, 57, 53, 71, 44, 47, 62,...</td>\n",
       "      <td>512</td>\n",
       "      <td>4</td>\n",
       "    </tr>\n",
       "    <tr>\n",
       "      <th>3</th>\n",
       "      <td>4</td>\n",
       "      <td>[74, 19, 54, 9, 79, 24, 21, 88, 53, 7]</td>\n",
       "      <td>[21, 30, 53, 62, 74, 79, 54, 19, 45, 67, 7, 80...</td>\n",
       "      <td>512</td>\n",
       "      <td>8</td>\n",
       "    </tr>\n",
       "    <tr>\n",
       "      <th>4</th>\n",
       "      <td>5</td>\n",
       "      <td>[68, 18, 23, 55, 9, 60, 82, 27, 76, 16]</td>\n",
       "      <td>[55, 26, 12, 23, 74, 7, 58, 29, 45, 86, 5, 6, ...</td>\n",
       "      <td>8</td>\n",
       "      <td>16</td>\n",
       "    </tr>\n",
       "  </tbody>\n",
       "</table>\n",
       "</div>"
      ],
      "text/plain": [
       "   card                           winning_numbers  \\\n",
       "0     1  [84, 17, 45, 77, 11, 66, 94, 28, 71, 70]   \n",
       "1     2   [18, 17, 59, 8, 78, 79, 34, 35, 48, 73]   \n",
       "2     3  [60, 78, 77, 44, 62, 54, 94, 50, 32, 11]   \n",
       "3     4    [74, 19, 54, 9, 79, 24, 21, 88, 53, 7]   \n",
       "4     5   [68, 18, 23, 55, 9, 60, 82, 27, 76, 16]   \n",
       "\n",
       "                                          my_numbers  points  copies  \n",
       "0  [45, 51, 86, 83, 53, 58, 64, 30, 67, 96, 41, 8...       8       1  \n",
       "1  [61, 49, 59, 99, 77, 8, 79, 64, 36, 6, 3, 67, ...      16       2  \n",
       "2  [2, 6, 89, 50, 11, 60, 57, 53, 71, 44, 47, 62,...     512       4  \n",
       "3  [21, 30, 53, 62, 74, 79, 54, 19, 45, 67, 7, 80...     512       8  \n",
       "4  [55, 26, 12, 23, 74, 7, 58, 29, 45, 86, 5, 6, ...       8      16  "
      ]
     },
     "execution_count": 308,
     "metadata": {},
     "output_type": "execute_result"
    }
   ],
   "source": [
    "df.head()"
   ]
  },
  {
   "cell_type": "code",
   "execution_count": 309,
   "id": "7ced2768-5de4-425d-8e35-fd90092859b5",
   "metadata": {
    "tags": []
   },
   "outputs": [
    {
     "data": {
      "text/plain": [
       "5571760"
      ]
     },
     "execution_count": 309,
     "metadata": {},
     "output_type": "execute_result"
    }
   ],
   "source": [
    "df['copies'].sum()"
   ]
  }
 ],
 "metadata": {
  "kernelspec": {
   "display_name": "fullstack",
   "language": "python",
   "name": "fullstack"
  },
  "language_info": {
   "codemirror_mode": {
    "name": "ipython",
    "version": 3
   },
   "file_extension": ".py",
   "mimetype": "text/x-python",
   "name": "python",
   "nbconvert_exporter": "python",
   "pygments_lexer": "ipython3",
   "version": "3.11.5"
  }
 },
 "nbformat": 4,
 "nbformat_minor": 5
}
