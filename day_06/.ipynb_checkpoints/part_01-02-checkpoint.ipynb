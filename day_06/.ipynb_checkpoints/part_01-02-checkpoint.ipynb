{
 "cells": [
  {
   "cell_type": "markdown",
   "id": "830c0f04-6cc0-4a46-9ff7-a414e8cf58e0",
   "metadata": {},
   "source": [
    "# Day 6 — Wait For It"
   ]
  },
  {
   "cell_type": "markdown",
   "id": "b8e620cc-b5d3-4df2-b204-e40d33f0da4a",
   "metadata": {},
   "source": [
    "- [Part 01](#—-Part-01)\n",
    "- [Part 02](#—-Part-02)"
   ]
  },
  {
   "cell_type": "code",
   "execution_count": 63,
   "id": "81023f8f-0b2e-4619-add8-ce1cc91ee5b0",
   "metadata": {
    "tags": []
   },
   "outputs": [],
   "source": [
    "import re\n",
    "import numpy as np\n",
    "import pandas as pd"
   ]
  },
  {
   "cell_type": "markdown",
   "id": "7b5db262-fa20-44c2-995d-24e380dd7241",
   "metadata": {},
   "source": [
    "Parse and format input:"
   ]
  },
  {
   "cell_type": "code",
   "execution_count": 64,
   "id": "21d6fdde-a0f2-4967-8817-38ccdd1eb94c",
   "metadata": {
    "tags": []
   },
   "outputs": [],
   "source": [
    "with open(file='day_06_input.txt') as file:\n",
    "    input_ = file.read().split('\\n')\n",
    "    time = tuple(map(int, re.findall(r'\\d+', input_[0])))\n",
    "    distance = tuple(map(int, re.findall(r'\\d+', input_[-1])))"
   ]
  },
  {
   "cell_type": "markdown",
   "id": "d584a771-e38d-4d38-8298-bf86a544f268",
   "metadata": {
    "tags": []
   },
   "source": [
    "Create new dataframe:"
   ]
  },
  {
   "cell_type": "code",
   "execution_count": 65,
   "id": "13b38d63-8856-4b50-9b1c-9e90f8bfd2b9",
   "metadata": {
    "tags": []
   },
   "outputs": [],
   "source": [
    "data_dict = {'time': [], 'distance': []}"
   ]
  },
  {
   "cell_type": "code",
   "execution_count": 66,
   "id": "16ce1297-ec09-43f5-91bf-44e5f9cef5d7",
   "metadata": {
    "tags": []
   },
   "outputs": [],
   "source": [
    "for i in range(len(time)):\n",
    "    data_dict['time'].append(time[i])\n",
    "    data_dict['distance'].append(distance[i])"
   ]
  },
  {
   "cell_type": "code",
   "execution_count": 67,
   "id": "7dbe27f3-5b97-4a20-980b-3a634dc29c61",
   "metadata": {
    "tags": []
   },
   "outputs": [],
   "source": [
    "df = pd.DataFrame(data_dict)"
   ]
  },
  {
   "cell_type": "code",
   "execution_count": 68,
   "id": "f9a4c5ab-fb24-4e25-b35b-6b8c739b85b2",
   "metadata": {
    "tags": []
   },
   "outputs": [
    {
     "data": {
      "text/html": [
       "<div>\n",
       "<style scoped>\n",
       "    .dataframe tbody tr th:only-of-type {\n",
       "        vertical-align: middle;\n",
       "    }\n",
       "\n",
       "    .dataframe tbody tr th {\n",
       "        vertical-align: top;\n",
       "    }\n",
       "\n",
       "    .dataframe thead th {\n",
       "        text-align: right;\n",
       "    }\n",
       "</style>\n",
       "<table border=\"1\" class=\"dataframe\">\n",
       "  <thead>\n",
       "    <tr style=\"text-align: right;\">\n",
       "      <th></th>\n",
       "      <th>time</th>\n",
       "      <th>distance</th>\n",
       "    </tr>\n",
       "  </thead>\n",
       "  <tbody>\n",
       "    <tr>\n",
       "      <th>0</th>\n",
       "      <td>61</td>\n",
       "      <td>643</td>\n",
       "    </tr>\n",
       "    <tr>\n",
       "      <th>1</th>\n",
       "      <td>70</td>\n",
       "      <td>1184</td>\n",
       "    </tr>\n",
       "    <tr>\n",
       "      <th>2</th>\n",
       "      <td>90</td>\n",
       "      <td>1362</td>\n",
       "    </tr>\n",
       "    <tr>\n",
       "      <th>3</th>\n",
       "      <td>66</td>\n",
       "      <td>1041</td>\n",
       "    </tr>\n",
       "  </tbody>\n",
       "</table>\n",
       "</div>"
      ],
      "text/plain": [
       "   time  distance\n",
       "0    61       643\n",
       "1    70      1184\n",
       "2    90      1362\n",
       "3    66      1041"
      ]
     },
     "execution_count": 68,
     "metadata": {},
     "output_type": "execute_result"
    }
   ],
   "source": [
    "df.head()"
   ]
  },
  {
   "cell_type": "markdown",
   "id": "78bdef57-099f-4321-a0ea-806a1c91a590",
   "metadata": {},
   "source": [
    "### — Part 01"
   ]
  },
  {
   "cell_type": "markdown",
   "id": "d801f9da-51f6-4c96-8760-7acd52889e6c",
   "metadata": {},
   "source": [
    "Determine the number of ways you could beat the record in each race. What do you get if you multiply these numbers together?"
   ]
  },
  {
   "cell_type": "code",
   "execution_count": 69,
   "id": "dcc93e50-572f-4de8-b419-86f1f2dd7d81",
   "metadata": {
    "tags": []
   },
   "outputs": [],
   "source": [
    "def valid_ways(time: int, record: int) -> int:\n",
    "    \"\"\"\n",
    "    Returns the number of valid ways to beat the record of the current race.\n",
    "    \"\"\"\n",
    "    hold_time = 0\n",
    "    is_valid = 0\n",
    "    \n",
    "    for milli_sec in range(time, -1, -1):\n",
    "        if hold_time * milli_sec > record:  # Can beat record\n",
    "            is_valid += 1\n",
    "        \n",
    "        # Increment hold time by 1\n",
    "        hold_time += 1\n",
    "        \n",
    "    return is_valid"
   ]
  },
  {
   "cell_type": "markdown",
   "id": "a76e6d8d-864c-4893-91c0-8511d085d160",
   "metadata": {},
   "source": [
    "Add new column `number_of_valid_ways` to dataframe:"
   ]
  },
  {
   "cell_type": "code",
   "execution_count": 70,
   "id": "1b156792-3781-4291-b17a-a292191297fa",
   "metadata": {
    "tags": []
   },
   "outputs": [],
   "source": [
    "df['number_of_valid_ways'] = df.apply(lambda x: valid_ways(x['time'], x['distance']), axis=1)"
   ]
  },
  {
   "cell_type": "code",
   "execution_count": 71,
   "id": "bb0e8438-2ff6-4da6-86b2-2b12b4f50517",
   "metadata": {
    "tags": []
   },
   "outputs": [
    {
     "data": {
      "text/html": [
       "<div>\n",
       "<style scoped>\n",
       "    .dataframe tbody tr th:only-of-type {\n",
       "        vertical-align: middle;\n",
       "    }\n",
       "\n",
       "    .dataframe tbody tr th {\n",
       "        vertical-align: top;\n",
       "    }\n",
       "\n",
       "    .dataframe thead th {\n",
       "        text-align: right;\n",
       "    }\n",
       "</style>\n",
       "<table border=\"1\" class=\"dataframe\">\n",
       "  <thead>\n",
       "    <tr style=\"text-align: right;\">\n",
       "      <th></th>\n",
       "      <th>time</th>\n",
       "      <th>distance</th>\n",
       "      <th>number_of_valid_ways</th>\n",
       "    </tr>\n",
       "  </thead>\n",
       "  <tbody>\n",
       "    <tr>\n",
       "      <th>0</th>\n",
       "      <td>61</td>\n",
       "      <td>643</td>\n",
       "      <td>34</td>\n",
       "    </tr>\n",
       "    <tr>\n",
       "      <th>1</th>\n",
       "      <td>70</td>\n",
       "      <td>1184</td>\n",
       "      <td>13</td>\n",
       "    </tr>\n",
       "    <tr>\n",
       "      <th>2</th>\n",
       "      <td>90</td>\n",
       "      <td>1362</td>\n",
       "      <td>51</td>\n",
       "    </tr>\n",
       "    <tr>\n",
       "      <th>3</th>\n",
       "      <td>66</td>\n",
       "      <td>1041</td>\n",
       "      <td>13</td>\n",
       "    </tr>\n",
       "  </tbody>\n",
       "</table>\n",
       "</div>"
      ],
      "text/plain": [
       "   time  distance  number_of_valid_ways\n",
       "0    61       643                    34\n",
       "1    70      1184                    13\n",
       "2    90      1362                    51\n",
       "3    66      1041                    13"
      ]
     },
     "execution_count": 71,
     "metadata": {},
     "output_type": "execute_result"
    }
   ],
   "source": [
    "df.head()"
   ]
  },
  {
   "cell_type": "markdown",
   "id": "fed1ff68-4281-4da6-bed8-34874fb46118",
   "metadata": {},
   "source": [
    "Multiply all values of `number_of_valid_ways`:"
   ]
  },
  {
   "cell_type": "code",
   "execution_count": 72,
   "id": "c0e9f075-b0ca-455b-80f9-8468c1197a30",
   "metadata": {
    "tags": []
   },
   "outputs": [
    {
     "data": {
      "text/plain": [
       "293046"
      ]
     },
     "execution_count": 72,
     "metadata": {},
     "output_type": "execute_result"
    }
   ],
   "source": [
    "df['number_of_valid_ways'].prod()"
   ]
  },
  {
   "cell_type": "markdown",
   "id": "334116ce-7636-453f-8953-6af164cf580f",
   "metadata": {},
   "source": [
    "### — Part 02"
   ]
  },
  {
   "cell_type": "markdown",
   "id": "fa7121fb-afc2-449e-a53a-60805f7617d1",
   "metadata": {},
   "source": [
    "As the race is about to start, you realize the piece of paper with race times and record distances you got earlier actually just has very bad kerning. There's really only one race - ignore the spaces between the numbers on each line."
   ]
  },
  {
   "cell_type": "markdown",
   "id": "9af1fd9c-a63b-4c50-9272-eedb91df4f8f",
   "metadata": {},
   "source": [
    "Convert time / distance variables to correct format:"
   ]
  },
  {
   "cell_type": "code",
   "execution_count": 85,
   "id": "3e427116-f380-400d-a120-8d1d0d143ca4",
   "metadata": {
    "tags": []
   },
   "outputs": [],
   "source": [
    "new_time = int(\"\".join(list(map(str, time))))\n",
    "new_distance = int(\"\".join(list(map(str, distance))))"
   ]
  },
  {
   "cell_type": "code",
   "execution_count": 86,
   "id": "7e9fd036-5aa2-44ba-b74f-e686fda1a12a",
   "metadata": {
    "tags": []
   },
   "outputs": [
    {
     "data": {
      "text/plain": [
       "35150181"
      ]
     },
     "execution_count": 86,
     "metadata": {},
     "output_type": "execute_result"
    }
   ],
   "source": [
    "valid_ways(new_time, new_distance)"
   ]
  }
 ],
 "metadata": {
  "kernelspec": {
   "display_name": "fullstack",
   "language": "python",
   "name": "fullstack"
  },
  "language_info": {
   "codemirror_mode": {
    "name": "ipython",
    "version": 3
   },
   "file_extension": ".py",
   "mimetype": "text/x-python",
   "name": "python",
   "nbconvert_exporter": "python",
   "pygments_lexer": "ipython3",
   "version": "3.11.5"
  }
 },
 "nbformat": 4,
 "nbformat_minor": 5
}
